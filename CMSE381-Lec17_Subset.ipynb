{
 "cells": [
  {
   "cell_type": "markdown",
   "id": "4dfd68f5",
   "metadata": {},
   "source": [
    "# Subset Selection\n",
    "## CMSE 381 - Fall 2023\n",
    "## Oct 13,  2023. Lecture 17\n",
    "\n"
   ]
  },
  {
   "cell_type": "code",
   "execution_count": 15,
   "id": "4ea3a4b4",
   "metadata": {},
   "outputs": [],
   "source": [
    "# Everyone's favorite standard imports\n",
    "import numpy as np\n",
    "import pandas as pd\n",
    "import matplotlib.pyplot as plt\n",
    "import seaborn as sns\n",
    "%matplotlib inline\n",
    "\n",
    "from sklearn.linear_model import LinearRegression,LogisticRegression\n",
    "from sklearn.metrics import mean_squared_error\n",
    "from sklearn.model_selection import cross_val_score\n",
    "from sklearn.model_selection import KFold"
   ]
  },
  {
   "cell_type": "code",
   "execution_count": 16,
   "id": "903917e1",
   "metadata": {},
   "outputs": [
    {
     "data": {
      "text/html": [
       "<div>\n",
       "<style scoped>\n",
       "    .dataframe tbody tr th:only-of-type {\n",
       "        vertical-align: middle;\n",
       "    }\n",
       "\n",
       "    .dataframe tbody tr th {\n",
       "        vertical-align: top;\n",
       "    }\n",
       "\n",
       "    .dataframe thead th {\n",
       "        text-align: right;\n",
       "    }\n",
       "</style>\n",
       "<table border=\"1\" class=\"dataframe\">\n",
       "  <thead>\n",
       "    <tr style=\"text-align: right;\">\n",
       "      <th></th>\n",
       "      <th>mpg</th>\n",
       "      <th>cylinders</th>\n",
       "      <th>displacement</th>\n",
       "      <th>horsepower</th>\n",
       "      <th>weight</th>\n",
       "      <th>acceleration</th>\n",
       "      <th>year</th>\n",
       "      <th>origin</th>\n",
       "      <th>name</th>\n",
       "    </tr>\n",
       "  </thead>\n",
       "  <tbody>\n",
       "    <tr>\n",
       "      <th>0</th>\n",
       "      <td>25.0</td>\n",
       "      <td>6</td>\n",
       "      <td>181.0</td>\n",
       "      <td>110</td>\n",
       "      <td>2945</td>\n",
       "      <td>16.4</td>\n",
       "      <td>82</td>\n",
       "      <td>1</td>\n",
       "      <td>buick century limited</td>\n",
       "    </tr>\n",
       "    <tr>\n",
       "      <th>1</th>\n",
       "      <td>13.0</td>\n",
       "      <td>8</td>\n",
       "      <td>302.0</td>\n",
       "      <td>130</td>\n",
       "      <td>3870</td>\n",
       "      <td>15.0</td>\n",
       "      <td>76</td>\n",
       "      <td>1</td>\n",
       "      <td>ford f108</td>\n",
       "    </tr>\n",
       "    <tr>\n",
       "      <th>2</th>\n",
       "      <td>14.0</td>\n",
       "      <td>8</td>\n",
       "      <td>400.0</td>\n",
       "      <td>175</td>\n",
       "      <td>4385</td>\n",
       "      <td>12.0</td>\n",
       "      <td>72</td>\n",
       "      <td>1</td>\n",
       "      <td>pontiac catalina</td>\n",
       "    </tr>\n",
       "    <tr>\n",
       "      <th>3</th>\n",
       "      <td>14.0</td>\n",
       "      <td>8</td>\n",
       "      <td>318.0</td>\n",
       "      <td>150</td>\n",
       "      <td>4096</td>\n",
       "      <td>13.0</td>\n",
       "      <td>71</td>\n",
       "      <td>1</td>\n",
       "      <td>plymouth fury iii</td>\n",
       "    </tr>\n",
       "    <tr>\n",
       "      <th>4</th>\n",
       "      <td>39.4</td>\n",
       "      <td>4</td>\n",
       "      <td>85.0</td>\n",
       "      <td>70</td>\n",
       "      <td>2070</td>\n",
       "      <td>18.6</td>\n",
       "      <td>78</td>\n",
       "      <td>3</td>\n",
       "      <td>datsun b210 gx</td>\n",
       "    </tr>\n",
       "  </tbody>\n",
       "</table>\n",
       "</div>"
      ],
      "text/plain": [
       "    mpg  cylinders  displacement  horsepower  weight  acceleration  year  \\\n",
       "0  25.0          6         181.0         110    2945          16.4    82   \n",
       "1  13.0          8         302.0         130    3870          15.0    76   \n",
       "2  14.0          8         400.0         175    4385          12.0    72   \n",
       "3  14.0          8         318.0         150    4096          13.0    71   \n",
       "4  39.4          4          85.0          70    2070          18.6    78   \n",
       "\n",
       "   origin                   name  \n",
       "0       1  buick century limited  \n",
       "1       1              ford f108  \n",
       "2       1       pontiac catalina  \n",
       "3       1      plymouth fury iii  \n",
       "4       3         datsun b210 gx  "
      ]
     },
     "execution_count": 16,
     "metadata": {},
     "output_type": "execute_result"
    }
   ],
   "source": [
    "# First, we're going to do all the data loading we've had for a while for this data set\n",
    "auto = pd.read_csv('Auto.csv')\n",
    "auto = auto.replace('?', np.nan)\n",
    "auto = auto.dropna()\n",
    "auto.horsepower = auto.horsepower.astype('int')\n",
    "\n",
    "#this shuffles my data set in advance so that i don't need to worry about it later \n",
    "auto = auto.sample(frac=1).reset_index(drop=True)\n",
    "\n",
    "\n",
    "auto.head()"
   ]
  },
  {
   "cell_type": "markdown",
   "id": "103ab479",
   "metadata": {},
   "source": [
    "Let's try to run subset selection on the `auto` data set! We're going to use `cylinders`, `horsepower`, `weight`, and `acceleration` to predict `mpg`. "
   ]
  },
  {
   "cell_type": "code",
   "execution_count": 17,
   "id": "84c5b9f0",
   "metadata": {},
   "outputs": [],
   "source": [
    "inputvars = ['cylinders','horsepower','weight', 'acceleration']"
   ]
  },
  {
   "cell_type": "markdown",
   "id": "74783122",
   "metadata": {},
   "source": [
    "The first tool we are going to use is the `itertools` package, which gives us a way to get subsets of whatever size we want using the `combinations` command.  "
   ]
  },
  {
   "cell_type": "code",
   "execution_count": 18,
   "id": "dee0f0c4",
   "metadata": {},
   "outputs": [],
   "source": [
    "from itertools import combinations"
   ]
  },
  {
   "cell_type": "markdown",
   "id": "41ea43df",
   "metadata": {},
   "source": [
    "The weird thing is it's an iterator, so if I just try to print out what I want, it's not helpful to me. "
   ]
  },
  {
   "cell_type": "code",
   "execution_count": 19,
   "id": "8a72b548",
   "metadata": {},
   "outputs": [
    {
     "data": {
      "text/plain": [
       "<itertools.combinations at 0x706abcdb1df0>"
      ]
     },
     "execution_count": 19,
     "metadata": {},
     "output_type": "execute_result"
    }
   ],
   "source": [
    "combinations(inputvars,2)"
   ]
  },
  {
   "cell_type": "markdown",
   "id": "746992ca",
   "metadata": {},
   "source": [
    "But if I use it in a for loop it does what I want!"
   ]
  },
  {
   "cell_type": "code",
   "execution_count": 20,
   "id": "a9dc2a3d",
   "metadata": {},
   "outputs": [
    {
     "name": "stdout",
     "output_type": "stream",
     "text": [
      "('cylinders', 'horsepower')\n",
      "('cylinders', 'weight')\n",
      "('cylinders', 'acceleration')\n",
      "('horsepower', 'weight')\n",
      "('horsepower', 'acceleration')\n",
      "('weight', 'acceleration')\n"
     ]
    }
   ],
   "source": [
    "for x in combinations(inputvars,2):\n",
    "    print(x)"
   ]
  },
  {
   "cell_type": "markdown",
   "id": "56ac1c62",
   "metadata": {},
   "source": [
    "Here's some code stolen from the last few days to run linear regression on a subset of the input variables. "
   ]
  },
  {
   "cell_type": "code",
   "execution_count": 21,
   "id": "177139b9",
   "metadata": {},
   "outputs": [
    {
     "data": {
      "text/plain": [
       "24.87760952139212"
      ]
     },
     "execution_count": 21,
     "metadata": {},
     "output_type": "execute_result"
    }
   ],
   "source": [
    "def myscore(df,listofvars, outputvar = 'mpg'):\n",
    "    X = df[list(listofvars)]\n",
    "    y = df[outputvar]\n",
    "    \n",
    "    #build linear regression model\n",
    "    model = LinearRegression()\n",
    "    \n",
    "\n",
    "    #use 5-fold CV to evaluate model\n",
    "    scores = cross_val_score(model, X,y, \n",
    "                             scoring='neg_mean_squared_error',\n",
    "                             cv=5)\n",
    "\n",
    "    #view mean absolute error\n",
    "    return np.average(np.absolute(scores))\n",
    "    \n",
    "\n",
    "myvars = ('cylinders', 'acceleration')\n",
    "myscore(auto,myvars)"
   ]
  },
  {
   "cell_type": "markdown",
   "id": "e4646f3d",
   "metadata": {},
   "source": [
    "\n",
    "&#9989; **<font color=red>Do this:</font>** Modify the code below as follows: \n",
    "- Set up two nested for loops to get every size $p = \\{1,\\cdots,4\\}$ subset of my list of variables I want to use\n",
    "- For each of these subsets, use the `myscore` function to get the k-fold CV error.\n",
    "- Append it into a data frame as shown\n"
   ]
  },
  {
   "cell_type": "code",
   "execution_count": 22,
   "id": "87e50fac",
   "metadata": {},
   "outputs": [
    {
     "data": {
      "text/html": [
       "<div>\n",
       "<style scoped>\n",
       "    .dataframe tbody tr th:only-of-type {\n",
       "        vertical-align: middle;\n",
       "    }\n",
       "\n",
       "    .dataframe tbody tr th {\n",
       "        vertical-align: top;\n",
       "    }\n",
       "\n",
       "    .dataframe thead th {\n",
       "        text-align: right;\n",
       "    }\n",
       "</style>\n",
       "<table border=\"1\" class=\"dataframe\">\n",
       "  <thead>\n",
       "    <tr style=\"text-align: right;\">\n",
       "      <th></th>\n",
       "      <th>Vars</th>\n",
       "      <th>Score</th>\n",
       "    </tr>\n",
       "  </thead>\n",
       "  <tbody>\n",
       "    <tr>\n",
       "      <th>0</th>\n",
       "      <td>(cylinders,)</td>\n",
       "      <td>24.668419</td>\n",
       "    </tr>\n",
       "    <tr>\n",
       "      <th>1</th>\n",
       "      <td>(horsepower,)</td>\n",
       "      <td>24.689481</td>\n",
       "    </tr>\n",
       "    <tr>\n",
       "      <th>2</th>\n",
       "      <td>(weight,)</td>\n",
       "      <td>19.053274</td>\n",
       "    </tr>\n",
       "    <tr>\n",
       "      <th>3</th>\n",
       "      <td>(acceleration,)</td>\n",
       "      <td>51.399379</td>\n",
       "    </tr>\n",
       "    <tr>\n",
       "      <th>4</th>\n",
       "      <td>(cylinders, horsepower)</td>\n",
       "      <td>21.657183</td>\n",
       "    </tr>\n",
       "    <tr>\n",
       "      <th>5</th>\n",
       "      <td>(cylinders, weight)</td>\n",
       "      <td>19.061222</td>\n",
       "    </tr>\n",
       "    <tr>\n",
       "      <th>6</th>\n",
       "      <td>(cylinders, acceleration)</td>\n",
       "      <td>24.877610</td>\n",
       "    </tr>\n",
       "    <tr>\n",
       "      <th>7</th>\n",
       "      <td>(horsepower, weight)</td>\n",
       "      <td>18.320551</td>\n",
       "    </tr>\n",
       "    <tr>\n",
       "      <th>8</th>\n",
       "      <td>(horsepower, acceleration)</td>\n",
       "      <td>23.479927</td>\n",
       "    </tr>\n",
       "    <tr>\n",
       "      <th>9</th>\n",
       "      <td>(weight, acceleration)</td>\n",
       "      <td>18.910563</td>\n",
       "    </tr>\n",
       "    <tr>\n",
       "      <th>10</th>\n",
       "      <td>(cylinders, horsepower, weight)</td>\n",
       "      <td>18.446877</td>\n",
       "    </tr>\n",
       "    <tr>\n",
       "      <th>11</th>\n",
       "      <td>(cylinders, horsepower, acceleration)</td>\n",
       "      <td>21.135204</td>\n",
       "    </tr>\n",
       "    <tr>\n",
       "      <th>12</th>\n",
       "      <td>(cylinders, weight, acceleration)</td>\n",
       "      <td>19.046191</td>\n",
       "    </tr>\n",
       "    <tr>\n",
       "      <th>13</th>\n",
       "      <td>(horsepower, weight, acceleration)</td>\n",
       "      <td>18.603510</td>\n",
       "    </tr>\n",
       "    <tr>\n",
       "      <th>14</th>\n",
       "      <td>(cylinders, horsepower, weight, acceleration)</td>\n",
       "      <td>18.729578</td>\n",
       "    </tr>\n",
       "  </tbody>\n",
       "</table>\n",
       "</div>"
      ],
      "text/plain": [
       "                                             Vars      Score\n",
       "0                                    (cylinders,)  24.668419\n",
       "1                                   (horsepower,)  24.689481\n",
       "2                                       (weight,)  19.053274\n",
       "3                                 (acceleration,)  51.399379\n",
       "4                         (cylinders, horsepower)  21.657183\n",
       "5                             (cylinders, weight)  19.061222\n",
       "6                       (cylinders, acceleration)  24.877610\n",
       "7                            (horsepower, weight)  18.320551\n",
       "8                      (horsepower, acceleration)  23.479927\n",
       "9                          (weight, acceleration)  18.910563\n",
       "10                (cylinders, horsepower, weight)  18.446877\n",
       "11          (cylinders, horsepower, acceleration)  21.135204\n",
       "12              (cylinders, weight, acceleration)  19.046191\n",
       "13             (horsepower, weight, acceleration)  18.603510\n",
       "14  (cylinders, horsepower, weight, acceleration)  18.729578"
      ]
     },
     "execution_count": 22,
     "metadata": {},
     "output_type": "execute_result"
    }
   ],
   "source": [
    "myvars = []\n",
    "myscores = []\n",
    "\n",
    "for p in range(1, len(inputvars)+1):\n",
    "    for subset in combinations(inputvars, p):\n",
    "        score = myscore(auto, subset)\n",
    "        myvars.append(subset)\n",
    "        myscores.append(score)\n",
    "        \n",
    "myResults = pd.DataFrame({'Vars':myvars, 'Score':myscores})\n",
    "myResults"
   ]
  },
  {
   "cell_type": "markdown",
   "id": "4af5d944",
   "metadata": {},
   "source": [
    "We got all our main subsets, we're just missing a null model. This is the model that predicts the sample mean `mpg` for any input data. \n",
    "\n",
    "&#9989; **<font color=red>Do this:</font>** What is the MSE on our data set if we just predict the mean for every data point? Add this entry to your `myResults` data frame\n",
    "\n",
    "*Hint: you can get a numpy array with every entry being the same output by using the `np.full` command.*"
   ]
  },
  {
   "cell_type": "code",
   "execution_count": 23,
   "id": "66e87bbc",
   "metadata": {},
   "outputs": [],
   "source": [
    "mean_prediction = auto['mpg'].mean()\n",
    "\n",
    "null_predictions = np.full(len(auto), mean_prediction)\n",
    "\n",
    "myscore = mean_squared_error(auto['mpg'], null_predictions)"
   ]
  },
  {
   "cell_type": "code",
   "execution_count": 24,
   "id": "755c13a1",
   "metadata": {},
   "outputs": [
    {
     "data": {
      "text/html": [
       "<div>\n",
       "<style scoped>\n",
       "    .dataframe tbody tr th:only-of-type {\n",
       "        vertical-align: middle;\n",
       "    }\n",
       "\n",
       "    .dataframe tbody tr th {\n",
       "        vertical-align: top;\n",
       "    }\n",
       "\n",
       "    .dataframe thead th {\n",
       "        text-align: right;\n",
       "    }\n",
       "</style>\n",
       "<table border=\"1\" class=\"dataframe\">\n",
       "  <thead>\n",
       "    <tr style=\"text-align: right;\">\n",
       "      <th></th>\n",
       "      <th>Vars</th>\n",
       "      <th>Score</th>\n",
       "    </tr>\n",
       "  </thead>\n",
       "  <tbody>\n",
       "    <tr>\n",
       "      <th>0</th>\n",
       "      <td>empty</td>\n",
       "      <td>60.762738</td>\n",
       "    </tr>\n",
       "    <tr>\n",
       "      <th>1</th>\n",
       "      <td>(cylinders,)</td>\n",
       "      <td>24.668419</td>\n",
       "    </tr>\n",
       "    <tr>\n",
       "      <th>2</th>\n",
       "      <td>(horsepower,)</td>\n",
       "      <td>24.689481</td>\n",
       "    </tr>\n",
       "    <tr>\n",
       "      <th>3</th>\n",
       "      <td>(weight,)</td>\n",
       "      <td>19.053274</td>\n",
       "    </tr>\n",
       "    <tr>\n",
       "      <th>4</th>\n",
       "      <td>(acceleration,)</td>\n",
       "      <td>51.399379</td>\n",
       "    </tr>\n",
       "    <tr>\n",
       "      <th>5</th>\n",
       "      <td>(cylinders, horsepower)</td>\n",
       "      <td>21.657183</td>\n",
       "    </tr>\n",
       "    <tr>\n",
       "      <th>6</th>\n",
       "      <td>(cylinders, weight)</td>\n",
       "      <td>19.061222</td>\n",
       "    </tr>\n",
       "    <tr>\n",
       "      <th>7</th>\n",
       "      <td>(cylinders, acceleration)</td>\n",
       "      <td>24.877610</td>\n",
       "    </tr>\n",
       "    <tr>\n",
       "      <th>8</th>\n",
       "      <td>(horsepower, weight)</td>\n",
       "      <td>18.320551</td>\n",
       "    </tr>\n",
       "    <tr>\n",
       "      <th>9</th>\n",
       "      <td>(horsepower, acceleration)</td>\n",
       "      <td>23.479927</td>\n",
       "    </tr>\n",
       "    <tr>\n",
       "      <th>10</th>\n",
       "      <td>(weight, acceleration)</td>\n",
       "      <td>18.910563</td>\n",
       "    </tr>\n",
       "    <tr>\n",
       "      <th>11</th>\n",
       "      <td>(cylinders, horsepower, weight)</td>\n",
       "      <td>18.446877</td>\n",
       "    </tr>\n",
       "    <tr>\n",
       "      <th>12</th>\n",
       "      <td>(cylinders, horsepower, acceleration)</td>\n",
       "      <td>21.135204</td>\n",
       "    </tr>\n",
       "    <tr>\n",
       "      <th>13</th>\n",
       "      <td>(cylinders, weight, acceleration)</td>\n",
       "      <td>19.046191</td>\n",
       "    </tr>\n",
       "    <tr>\n",
       "      <th>14</th>\n",
       "      <td>(horsepower, weight, acceleration)</td>\n",
       "      <td>18.603510</td>\n",
       "    </tr>\n",
       "    <tr>\n",
       "      <th>15</th>\n",
       "      <td>(cylinders, horsepower, weight, acceleration)</td>\n",
       "      <td>18.729578</td>\n",
       "    </tr>\n",
       "  </tbody>\n",
       "</table>\n",
       "</div>"
      ],
      "text/plain": [
       "                                             Vars      Score\n",
       "0                                           empty  60.762738\n",
       "1                                    (cylinders,)  24.668419\n",
       "2                                   (horsepower,)  24.689481\n",
       "3                                       (weight,)  19.053274\n",
       "4                                 (acceleration,)  51.399379\n",
       "5                         (cylinders, horsepower)  21.657183\n",
       "6                             (cylinders, weight)  19.061222\n",
       "7                       (cylinders, acceleration)  24.877610\n",
       "8                            (horsepower, weight)  18.320551\n",
       "9                      (horsepower, acceleration)  23.479927\n",
       "10                         (weight, acceleration)  18.910563\n",
       "11                (cylinders, horsepower, weight)  18.446877\n",
       "12          (cylinders, horsepower, acceleration)  21.135204\n",
       "13              (cylinders, weight, acceleration)  19.046191\n",
       "14             (horsepower, weight, acceleration)  18.603510\n",
       "15  (cylinders, horsepower, weight, acceleration)  18.729578"
      ]
     },
     "execution_count": 24,
     "metadata": {},
     "output_type": "execute_result"
    }
   ],
   "source": [
    "newresult = pd.DataFrame({'Vars':['empty'], 'Score':[myscore]})\n",
    "\n",
    "myResults = pd.concat([newresult,myResults],ignore_index = True)\n",
    "\n",
    "# If you print it out now, you should have 16 models scored\n",
    "myResults"
   ]
  },
  {
   "cell_type": "markdown",
   "id": "5026a0eb",
   "metadata": {},
   "source": [
    "&#9989; **<font color=red>Do this:</font>** What is the minimum score over all subsets? Which model makes it happen? The `idxmin` command will likely be useful for this. "
   ]
  },
  {
   "cell_type": "code",
   "execution_count": 25,
   "id": "298d136a",
   "metadata": {},
   "outputs": [
    {
     "name": "stdout",
     "output_type": "stream",
     "text": [
      "The minimum MSE score is 18.3206\n",
      "Achieved by using variables: ('horsepower', 'weight')\n"
     ]
    }
   ],
   "source": [
    "best_model_idx = myResults['Score'].idxmin()\n",
    "best_model = myResults.loc[best_model_idx]\n",
    "\n",
    "print(f\"The minimum MSE score is {best_model['Score']:.4f}\")\n",
    "print(f\"Achieved by using variables: {best_model['Vars']}\")"
   ]
  },
  {
   "cell_type": "markdown",
   "id": "266e4ce4",
   "metadata": {},
   "source": [
    "## Stretch project\n",
    "\n",
    "Have some free time? \n",
    "\n",
    "&#9989; **<font color=red>Strech project:</font>** Figure out how to do this for forward selection. \n",
    "\n",
    "- First, try to write pseudo code for how to search through these subsets. \n",
    "- Then if you still have time, see if you can get it working on this set of four variables. "
   ]
  },
  {
   "cell_type": "code",
   "execution_count": 26,
   "id": "04b6ea56",
   "metadata": {},
   "outputs": [],
   "source": [
    "# Your code here #"
   ]
  },
  {
   "cell_type": "code",
   "execution_count": null,
   "id": "ca1ee731",
   "metadata": {},
   "outputs": [],
   "source": []
  },
  {
   "cell_type": "markdown",
   "id": "66f79113",
   "metadata": {},
   "source": [
    "\n",
    "\n",
    "-----\n",
    "### Congratulations, we're done!\n",
    "Written by Dr. Liz Munch, Michigan State University\n",
    "\n",
    "<a rel=\"license\" href=\"http://creativecommons.org/licenses/by-nc/4.0/\"><img alt=\"Creative Commons License\" style=\"border-width:0\" src=\"https://i.creativecommons.org/l/by-nc/4.0/88x31.png\" /></a><br />This work is licensed under a <a rel=\"license\" href=\"http://creativecommons.org/licenses/by-nc/4.0/\">Creative Commons Attribution-NonCommercial 4.0 International License</a>."
   ]
  },
  {
   "cell_type": "code",
   "execution_count": null,
   "id": "3fb8354f",
   "metadata": {},
   "outputs": [],
   "source": []
  }
 ],
 "metadata": {
  "kernelspec": {
   "display_name": "Python 3.11 (default)",
   "language": "python",
   "name": "python3"
  },
  "language_info": {
   "codemirror_mode": {
    "name": "ipython",
    "version": 3
   },
   "file_extension": ".py",
   "mimetype": "text/x-python",
   "name": "python",
   "nbconvert_exporter": "python",
   "pygments_lexer": "ipython3",
   "version": "3.11.12"
  },
  "vscode": {
   "interpreter": {
    "hash": "3e3338d56a43a0108f5ff8ffc1915439f9812d920a0d5bf5d66e4a60c981234a"
   }
  }
 },
 "nbformat": 4,
 "nbformat_minor": 5
}
