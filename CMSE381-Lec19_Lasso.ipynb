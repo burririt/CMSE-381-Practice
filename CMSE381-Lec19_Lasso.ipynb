{
 "cells": [
  {
   "cell_type": "markdown",
   "id": "4dfd68f5",
   "metadata": {},
   "source": [
    "# Lec 19 Lab: The Lasso\n",
    "## CMSE 381 - Fall 2023\n",
    "## Oct 18, 2023\n",
    "\n"
   ]
  },
  {
   "cell_type": "markdown",
   "id": "c90aa0b0",
   "metadata": {},
   "source": [
    "In this module we are going to test out the lasso method, discussed in class."
   ]
  },
  {
   "cell_type": "code",
   "execution_count": 1,
   "id": "4ea3a4b4",
   "metadata": {},
   "outputs": [],
   "source": [
    "# Everyone's favorite standard imports\n",
    "import numpy as np\n",
    "import pandas as pd\n",
    "import matplotlib.pyplot as plt\n",
    "%matplotlib inline\n",
    "import time\n",
    "\n",
    "\n",
    "# ML imports we've used previously\n",
    "from sklearn.model_selection import train_test_split\n",
    "from sklearn.metrics import mean_squared_error\n",
    "from sklearn.preprocessing import StandardScaler\n",
    "from sklearn.linear_model import Ridge, RidgeCV\n",
    "from sklearn.pipeline import make_pipeline"
   ]
  },
  {
   "cell_type": "markdown",
   "id": "81f9a257",
   "metadata": {},
   "source": [
    "# Loading in the data\n",
    "\n",
    "Ok, here we go, let's play with a baseball data set again. Note this cleanup is all the same as the last lab. "
   ]
  },
  {
   "cell_type": "code",
   "execution_count": 15,
   "id": "3ceeb83a",
   "metadata": {},
   "outputs": [
    {
     "name": "stdout",
     "output_type": "stream",
     "text": [
      "Dimensions of original data: (322, 21)\n"
     ]
    },
    {
     "data": {
      "text/html": [
       "<div>\n",
       "<style scoped>\n",
       "    .dataframe tbody tr th:only-of-type {\n",
       "        vertical-align: middle;\n",
       "    }\n",
       "\n",
       "    .dataframe tbody tr th {\n",
       "        vertical-align: top;\n",
       "    }\n",
       "\n",
       "    .dataframe thead th {\n",
       "        text-align: right;\n",
       "    }\n",
       "</style>\n",
       "<table border=\"1\" class=\"dataframe\">\n",
       "  <thead>\n",
       "    <tr style=\"text-align: right;\">\n",
       "      <th></th>\n",
       "      <th>AtBat</th>\n",
       "      <th>Hits</th>\n",
       "      <th>HmRun</th>\n",
       "      <th>Runs</th>\n",
       "      <th>RBI</th>\n",
       "      <th>Walks</th>\n",
       "      <th>Years</th>\n",
       "      <th>CAtBat</th>\n",
       "      <th>CHits</th>\n",
       "      <th>CHmRun</th>\n",
       "      <th>CRuns</th>\n",
       "      <th>CRBI</th>\n",
       "      <th>CWalks</th>\n",
       "      <th>PutOuts</th>\n",
       "      <th>Assists</th>\n",
       "      <th>Errors</th>\n",
       "      <th>Salary</th>\n",
       "      <th>League_N</th>\n",
       "      <th>Division_W</th>\n",
       "      <th>NewLeague_N</th>\n",
       "    </tr>\n",
       "  </thead>\n",
       "  <tbody>\n",
       "    <tr>\n",
       "      <th>1</th>\n",
       "      <td>315</td>\n",
       "      <td>81</td>\n",
       "      <td>7</td>\n",
       "      <td>24</td>\n",
       "      <td>38</td>\n",
       "      <td>39</td>\n",
       "      <td>14</td>\n",
       "      <td>3449</td>\n",
       "      <td>835</td>\n",
       "      <td>69</td>\n",
       "      <td>321</td>\n",
       "      <td>414</td>\n",
       "      <td>375</td>\n",
       "      <td>632</td>\n",
       "      <td>43</td>\n",
       "      <td>10</td>\n",
       "      <td>475.0</td>\n",
       "      <td>True</td>\n",
       "      <td>True</td>\n",
       "      <td>True</td>\n",
       "    </tr>\n",
       "    <tr>\n",
       "      <th>2</th>\n",
       "      <td>479</td>\n",
       "      <td>130</td>\n",
       "      <td>18</td>\n",
       "      <td>66</td>\n",
       "      <td>72</td>\n",
       "      <td>76</td>\n",
       "      <td>3</td>\n",
       "      <td>1624</td>\n",
       "      <td>457</td>\n",
       "      <td>63</td>\n",
       "      <td>224</td>\n",
       "      <td>266</td>\n",
       "      <td>263</td>\n",
       "      <td>880</td>\n",
       "      <td>82</td>\n",
       "      <td>14</td>\n",
       "      <td>480.0</td>\n",
       "      <td>False</td>\n",
       "      <td>True</td>\n",
       "      <td>False</td>\n",
       "    </tr>\n",
       "    <tr>\n",
       "      <th>3</th>\n",
       "      <td>496</td>\n",
       "      <td>141</td>\n",
       "      <td>20</td>\n",
       "      <td>65</td>\n",
       "      <td>78</td>\n",
       "      <td>37</td>\n",
       "      <td>11</td>\n",
       "      <td>5628</td>\n",
       "      <td>1575</td>\n",
       "      <td>225</td>\n",
       "      <td>828</td>\n",
       "      <td>838</td>\n",
       "      <td>354</td>\n",
       "      <td>200</td>\n",
       "      <td>11</td>\n",
       "      <td>3</td>\n",
       "      <td>500.0</td>\n",
       "      <td>True</td>\n",
       "      <td>False</td>\n",
       "      <td>True</td>\n",
       "    </tr>\n",
       "    <tr>\n",
       "      <th>4</th>\n",
       "      <td>321</td>\n",
       "      <td>87</td>\n",
       "      <td>10</td>\n",
       "      <td>39</td>\n",
       "      <td>42</td>\n",
       "      <td>30</td>\n",
       "      <td>2</td>\n",
       "      <td>396</td>\n",
       "      <td>101</td>\n",
       "      <td>12</td>\n",
       "      <td>48</td>\n",
       "      <td>46</td>\n",
       "      <td>33</td>\n",
       "      <td>805</td>\n",
       "      <td>40</td>\n",
       "      <td>4</td>\n",
       "      <td>91.5</td>\n",
       "      <td>True</td>\n",
       "      <td>False</td>\n",
       "      <td>True</td>\n",
       "    </tr>\n",
       "    <tr>\n",
       "      <th>5</th>\n",
       "      <td>594</td>\n",
       "      <td>169</td>\n",
       "      <td>4</td>\n",
       "      <td>74</td>\n",
       "      <td>51</td>\n",
       "      <td>35</td>\n",
       "      <td>11</td>\n",
       "      <td>4408</td>\n",
       "      <td>1133</td>\n",
       "      <td>19</td>\n",
       "      <td>501</td>\n",
       "      <td>336</td>\n",
       "      <td>194</td>\n",
       "      <td>282</td>\n",
       "      <td>421</td>\n",
       "      <td>25</td>\n",
       "      <td>750.0</td>\n",
       "      <td>False</td>\n",
       "      <td>True</td>\n",
       "      <td>False</td>\n",
       "    </tr>\n",
       "  </tbody>\n",
       "</table>\n",
       "</div>"
      ],
      "text/plain": [
       "   AtBat  Hits  HmRun  Runs  RBI  Walks  Years  CAtBat  CHits  CHmRun  CRuns  \\\n",
       "1    315    81      7    24   38     39     14    3449    835      69    321   \n",
       "2    479   130     18    66   72     76      3    1624    457      63    224   \n",
       "3    496   141     20    65   78     37     11    5628   1575     225    828   \n",
       "4    321    87     10    39   42     30      2     396    101      12     48   \n",
       "5    594   169      4    74   51     35     11    4408   1133      19    501   \n",
       "\n",
       "   CRBI  CWalks  PutOuts  Assists  Errors  Salary  League_N  Division_W  \\\n",
       "1   414     375      632       43      10   475.0      True        True   \n",
       "2   266     263      880       82      14   480.0     False        True   \n",
       "3   838     354      200       11       3   500.0      True       False   \n",
       "4    46      33      805       40       4    91.5      True       False   \n",
       "5   336     194      282      421      25   750.0     False        True   \n",
       "\n",
       "   NewLeague_N  \n",
       "1         True  \n",
       "2        False  \n",
       "3         True  \n",
       "4         True  \n",
       "5        False  "
      ]
     },
     "execution_count": 15,
     "metadata": {},
     "output_type": "execute_result"
    }
   ],
   "source": [
    "hitters_df = pd.read_csv('Hitters.csv')\n",
    "\n",
    "# Print the dimensions of the original Hitters data (322 rows x 20 columns)\n",
    "print(\"Dimensions of original data:\", hitters_df.shape)\n",
    "\n",
    "# Drop any rows the contain missing values, along with the player names\n",
    "hitters_df = hitters_df.dropna().drop('Player', axis=1)\n",
    "\n",
    "# Replace any categorical variables with dummy variables\n",
    "hitters_df = pd.get_dummies(hitters_df, drop_first = True)\n",
    "\n",
    "hitters_df.head()"
   ]
  },
  {
   "cell_type": "code",
   "execution_count": 16,
   "id": "4672d6f6",
   "metadata": {
    "scrolled": true
   },
   "outputs": [
    {
     "name": "stdout",
     "output_type": "stream",
     "text": [
      "<class 'pandas.core.frame.DataFrame'>\n",
      "Index: 263 entries, 1 to 321\n",
      "Data columns (total 19 columns):\n",
      " #   Column       Non-Null Count  Dtype  \n",
      "---  ------       --------------  -----  \n",
      " 0   AtBat        263 non-null    float64\n",
      " 1   Hits         263 non-null    float64\n",
      " 2   HmRun        263 non-null    float64\n",
      " 3   Runs         263 non-null    float64\n",
      " 4   RBI          263 non-null    float64\n",
      " 5   Walks        263 non-null    float64\n",
      " 6   Years        263 non-null    float64\n",
      " 7   CAtBat       263 non-null    float64\n",
      " 8   CHits        263 non-null    float64\n",
      " 9   CHmRun       263 non-null    float64\n",
      " 10  CRuns        263 non-null    float64\n",
      " 11  CRBI         263 non-null    float64\n",
      " 12  CWalks       263 non-null    float64\n",
      " 13  PutOuts      263 non-null    float64\n",
      " 14  Assists      263 non-null    float64\n",
      " 15  Errors       263 non-null    float64\n",
      " 16  League_N     263 non-null    float64\n",
      " 17  Division_W   263 non-null    float64\n",
      " 18  NewLeague_N  263 non-null    float64\n",
      "dtypes: float64(19)\n",
      "memory usage: 41.1 KB\n"
     ]
    }
   ],
   "source": [
    "y = hitters_df.Salary\n",
    "\n",
    "# Drop the column with the independent variable (Salary)\n",
    "X = hitters_df.drop(['Salary'], axis = 1).astype('float64')\n",
    "\n",
    "X.info()"
   ]
  },
  {
   "cell_type": "markdown",
   "id": "a76813de",
   "metadata": {},
   "source": [
    "Finally, here's a list of $\\alpha$s to test for our Lasso."
   ]
  },
  {
   "cell_type": "code",
   "execution_count": 18,
   "id": "abbf296e",
   "metadata": {},
   "outputs": [
    {
     "data": {
      "text/plain": [
       "array([5.00000000e+03, 4.34874501e+03, 3.78231664e+03, 3.28966612e+03,\n",
       "       2.86118383e+03, 2.48851178e+03, 2.16438064e+03, 1.88246790e+03,\n",
       "       1.63727458e+03, 1.42401793e+03, 1.23853818e+03, 1.07721735e+03,\n",
       "       9.36908711e+02, 8.14875417e+02, 7.08737081e+02, 6.16423370e+02,\n",
       "       5.36133611e+02, 4.66301673e+02, 4.05565415e+02, 3.52740116e+02,\n",
       "       3.06795364e+02, 2.66834962e+02, 2.32079442e+02, 2.01850863e+02,\n",
       "       1.75559587e+02, 1.52692775e+02, 1.32804389e+02, 1.15506485e+02,\n",
       "       1.00461650e+02, 8.73764200e+01, 7.59955541e+01, 6.60970574e+01,\n",
       "       5.74878498e+01, 5.00000000e+01, 4.34874501e+01, 3.78231664e+01,\n",
       "       3.28966612e+01, 2.86118383e+01, 2.48851178e+01, 2.16438064e+01,\n",
       "       1.88246790e+01, 1.63727458e+01, 1.42401793e+01, 1.23853818e+01,\n",
       "       1.07721735e+01, 9.36908711e+00, 8.14875417e+00, 7.08737081e+00,\n",
       "       6.16423370e+00, 5.36133611e+00, 4.66301673e+00, 4.05565415e+00,\n",
       "       3.52740116e+00, 3.06795364e+00, 2.66834962e+00, 2.32079442e+00,\n",
       "       2.01850863e+00, 1.75559587e+00, 1.52692775e+00, 1.32804389e+00,\n",
       "       1.15506485e+00, 1.00461650e+00, 8.73764200e-01, 7.59955541e-01,\n",
       "       6.60970574e-01, 5.74878498e-01, 5.00000000e-01, 4.34874501e-01,\n",
       "       3.78231664e-01, 3.28966612e-01, 2.86118383e-01, 2.48851178e-01,\n",
       "       2.16438064e-01, 1.88246790e-01, 1.63727458e-01, 1.42401793e-01,\n",
       "       1.23853818e-01, 1.07721735e-01, 9.36908711e-02, 8.14875417e-02,\n",
       "       7.08737081e-02, 6.16423370e-02, 5.36133611e-02, 4.66301673e-02,\n",
       "       4.05565415e-02, 3.52740116e-02, 3.06795364e-02, 2.66834962e-02,\n",
       "       2.32079442e-02, 2.01850863e-02, 1.75559587e-02, 1.52692775e-02,\n",
       "       1.32804389e-02, 1.15506485e-02, 1.00461650e-02, 8.73764200e-03,\n",
       "       7.59955541e-03, 6.60970574e-03, 5.74878498e-03, 5.00000000e-03])"
      ]
     },
     "execution_count": 18,
     "metadata": {},
     "output_type": "execute_result"
    }
   ],
   "source": [
    "# List of alphas\n",
    "alphas = 10**np.linspace(4,-2,100)*0.5\n",
    "alphas"
   ]
  },
  {
   "cell_type": "markdown",
   "id": "62b69746",
   "metadata": {},
   "source": [
    "# Lasso \n",
    "\n",
    "Thanks to the wonders of `scikit-learn`, now that we know how to do all this with ridge regression, translation to lasso is super easy. \n",
    "\n",
    "- [Lasso Documentation](https://scikit-learn.org/stable/modules/generated/sklearn.linear_model.Lasso.html)\n",
    "- [LassoCV Documentation](https://scikit-learn.org/stable/modules/generated/sklearn.linear_model.LassoCV.html#sklearn.linear_model.LassoCV)\n",
    "- [User guide](https://scikit-learn.org/stable/modules/linear_model.html#lasso)\n",
    "\n"
   ]
  },
  {
   "cell_type": "code",
   "execution_count": 19,
   "id": "fe822edc",
   "metadata": {},
   "outputs": [],
   "source": [
    "from sklearn.linear_model import Lasso, LassoCV"
   ]
  },
  {
   "cell_type": "markdown",
   "id": "42e181b9",
   "metadata": {},
   "source": [
    "Here's an example computing the lasso regression. "
   ]
  },
  {
   "cell_type": "code",
   "execution_count": 20,
   "id": "c7c0df01",
   "metadata": {},
   "outputs": [
    {
     "name": "stdout",
     "output_type": "stream",
     "text": [
      "intercept: 535.9258821292775\n",
      "\n",
      "\n",
      "AtBat         -281.117268\n",
      "Hits           303.712775\n",
      "HmRun           11.130509\n",
      "Runs           -25.237507\n",
      "RBI             -0.000000\n",
      "Walks          120.835970\n",
      "Years          -35.043287\n",
      "CAtBat        -161.321987\n",
      "CHits            0.000000\n",
      "CHmRun          14.271823\n",
      "CRuns          375.151758\n",
      "CRBI           192.215411\n",
      "CWalks        -190.239127\n",
      "PutOuts         78.676450\n",
      "Assists         41.885267\n",
      "Errors         -18.834451\n",
      "League_N        23.209008\n",
      "Division_W     -58.234428\n",
      "NewLeague_N     -4.941839\n",
      "dtype: float64\n",
      "\n",
      "Training MSE: 92609.01554579365\n"
     ]
    }
   ],
   "source": [
    "a = 1 #<------ this is me picking an alpha value\n",
    "\n",
    "# normalize the input\n",
    "transformer = StandardScaler().fit(X)\n",
    "# transformer.set_output(transform = 'pandas') #<---- some older versions of sklearn\n",
    "                                               #      have issues with this\n",
    "X_norm = pd.DataFrame(transformer.transform(X), columns = X.columns)\n",
    "\n",
    "# Fit the regression\n",
    "lasso = Lasso(alpha = a) \n",
    "lasso.fit(X_norm, y)\n",
    "\n",
    "# Get all the coefficients\n",
    "print('intercept:', lasso.intercept_)\n",
    "print('\\n')\n",
    "print(pd.Series(lasso.coef_, index = X_norm.columns))\n",
    "print('\\nTraining MSE:',mean_squared_error(y,lasso.predict(X_norm)))"
   ]
  },
  {
   "cell_type": "markdown",
   "id": "d5b06beb",
   "metadata": {},
   "source": [
    "And the version using the `make_pipeline` along with the `StandardScaler` function which gives back the same answer."
   ]
  },
  {
   "cell_type": "code",
   "execution_count": 21,
   "id": "8d948bd5",
   "metadata": {
    "scrolled": true
   },
   "outputs": [
    {
     "name": "stdout",
     "output_type": "stream",
     "text": [
      "intercept: 535.9258821292775\n",
      "\n",
      "\n",
      "AtBat         -281.117268\n",
      "Hits           303.712775\n",
      "HmRun           11.130509\n",
      "Runs           -25.237507\n",
      "RBI             -0.000000\n",
      "Walks          120.835970\n",
      "Years          -35.043287\n",
      "CAtBat        -161.321987\n",
      "CHits            0.000000\n",
      "CHmRun          14.271823\n",
      "CRuns          375.151758\n",
      "CRBI           192.215411\n",
      "CWalks        -190.239127\n",
      "PutOuts         78.676450\n",
      "Assists         41.885267\n",
      "Errors         -18.834451\n",
      "League_N        23.209008\n",
      "Division_W     -58.234428\n",
      "NewLeague_N     -4.941839\n",
      "dtype: float64\n",
      "\n",
      "Training MSE: 92609.01554579365\n"
     ]
    }
   ],
   "source": [
    "a = 1#<------ this is me picking an alpha value\n",
    "\n",
    "\n",
    "# The make_pipeline command takes care of the normalization and the \n",
    "# Lasso regression for you. Note that I am passing in the un-normalized\n",
    "# matrix X everywhere in here, since the normalization happens internally.\n",
    "model = make_pipeline(StandardScaler(), Lasso(alpha = a))\n",
    "model.fit(X, y)\n",
    " \n",
    "# Get all the coefficients. Notice that in order to get \n",
    "# them out of the ridge portion, we have to ask the pipeline \n",
    "# for the specific bit we want with the model.named_steps['ridge']\n",
    "# in place of just ridge from above.\n",
    "print('intercept:', model.named_steps['lasso'].intercept_)\n",
    "print('\\n')\n",
    "print(pd.Series(model.named_steps['lasso'].coef_, index = X.columns))\n",
    "print('\\nTraining MSE:',mean_squared_error(y,model.predict(X)))"
   ]
  },
  {
   "cell_type": "markdown",
   "id": "6b0c2da4",
   "metadata": {},
   "source": [
    "&#9989; **<font color=red>Do this:</font>** Mess with the values for $a$ in the code, such as for $a=1, 10, 100, 1000$. What do you notice about the coefficients? "
   ]
  },
  {
   "cell_type": "markdown",
   "id": "af63a093",
   "metadata": {},
   "source": [
    "**As alpha increases, Lasso shrinks coefficients and forces some to zero, performing feature selection. Larger alpha = more coefficients become zero.**"
   ]
  },
  {
   "cell_type": "markdown",
   "id": "3e4929bd",
   "metadata": {},
   "source": [
    "&#9989; **<font color=red>Do this:</font>** Make a graph of the coeffiencts from lasso as $\\alpha$ changes \n",
    "\n",
    "*Note: we did similar things in the last class, I've included the code you can borrow and modify from there. Also note I got a bunch of convergence warnings, but drawing the graphs I could safely ignore them.*"
   ]
  },
  {
   "cell_type": "code",
   "execution_count": 22,
   "id": "1463365d",
   "metadata": {},
   "outputs": [
    {
     "data": {
      "text/html": [
       "<div>\n",
       "<style scoped>\n",
       "    .dataframe tbody tr th:only-of-type {\n",
       "        vertical-align: middle;\n",
       "    }\n",
       "\n",
       "    .dataframe tbody tr th {\n",
       "        vertical-align: top;\n",
       "    }\n",
       "\n",
       "    .dataframe thead th {\n",
       "        text-align: right;\n",
       "    }\n",
       "</style>\n",
       "<table border=\"1\" class=\"dataframe\">\n",
       "  <thead>\n",
       "    <tr style=\"text-align: right;\">\n",
       "      <th></th>\n",
       "      <th>AtBat</th>\n",
       "      <th>Hits</th>\n",
       "      <th>HmRun</th>\n",
       "      <th>Runs</th>\n",
       "      <th>RBI</th>\n",
       "      <th>Walks</th>\n",
       "      <th>Years</th>\n",
       "      <th>CAtBat</th>\n",
       "      <th>CHits</th>\n",
       "      <th>CHmRun</th>\n",
       "      <th>CRuns</th>\n",
       "      <th>CRBI</th>\n",
       "      <th>CWalks</th>\n",
       "      <th>PutOuts</th>\n",
       "      <th>Assists</th>\n",
       "      <th>Errors</th>\n",
       "      <th>League_N</th>\n",
       "      <th>Division_W</th>\n",
       "      <th>NewLeague_N</th>\n",
       "    </tr>\n",
       "  </thead>\n",
       "  <tbody>\n",
       "    <tr>\n",
       "      <th>0</th>\n",
       "      <td>6.780624</td>\n",
       "      <td>7.846413</td>\n",
       "      <td>5.668981</td>\n",
       "      <td>7.382901</td>\n",
       "      <td>7.739614</td>\n",
       "      <td>7.908231</td>\n",
       "      <td>6.536754</td>\n",
       "      <td>8.894638</td>\n",
       "      <td>9.417447</td>\n",
       "      <td>8.959603</td>\n",
       "      <td>9.653524</td>\n",
       "      <td>9.732533</td>\n",
       "      <td>8.177650</td>\n",
       "      <td>5.941721</td>\n",
       "      <td>0.482213</td>\n",
       "      <td>-0.198173</td>\n",
       "      <td>0.147069</td>\n",
       "      <td>-4.066839</td>\n",
       "      <td>0.260218</td>\n",
       "    </tr>\n",
       "    <tr>\n",
       "      <th>1</th>\n",
       "      <td>7.482871</td>\n",
       "      <td>8.711141</td>\n",
       "      <td>6.222836</td>\n",
       "      <td>8.176418</td>\n",
       "      <td>8.547140</td>\n",
       "      <td>8.775630</td>\n",
       "      <td>7.167294</td>\n",
       "      <td>9.803256</td>\n",
       "      <td>10.402015</td>\n",
       "      <td>9.888785</td>\n",
       "      <td>10.662606</td>\n",
       "      <td>10.750886</td>\n",
       "      <td>8.995532</td>\n",
       "      <td>6.681835</td>\n",
       "      <td>0.538299</td>\n",
       "      <td>-0.238435</td>\n",
       "      <td>0.221313</td>\n",
       "      <td>-4.609158</td>\n",
       "      <td>0.332227</td>\n",
       "    </tr>\n",
       "    <tr>\n",
       "      <th>2</th>\n",
       "      <td>8.221672</td>\n",
       "      <td>9.637282</td>\n",
       "      <td>6.796229</td>\n",
       "      <td>9.020407</td>\n",
       "      <td>9.399342</td>\n",
       "      <td>9.703560</td>\n",
       "      <td>7.819084</td>\n",
       "      <td>10.758248</td>\n",
       "      <td>11.443720</td>\n",
       "      <td>10.869669</td>\n",
       "      <td>11.730158</td>\n",
       "      <td>11.828595</td>\n",
       "      <td>9.849605</td>\n",
       "      <td>7.497878</td>\n",
       "      <td>0.598915</td>\n",
       "      <td>-0.287508</td>\n",
       "      <td>0.315973</td>\n",
       "      <td>-5.215881</td>\n",
       "      <td>0.420140</td>\n",
       "    </tr>\n",
       "    <tr>\n",
       "      <th>3</th>\n",
       "      <td>8.991208</td>\n",
       "      <td>10.622778</td>\n",
       "      <td>7.382157</td>\n",
       "      <td>9.911172</td>\n",
       "      <td>10.290649</td>\n",
       "      <td>10.689638</td>\n",
       "      <td>8.484413</td>\n",
       "      <td>11.752906</td>\n",
       "      <td>12.537320</td>\n",
       "      <td>11.896678</td>\n",
       "      <td>12.850766</td>\n",
       "      <td>12.960326</td>\n",
       "      <td>10.732098</td>\n",
       "      <td>8.394523</td>\n",
       "      <td>0.664011</td>\n",
       "      <td>-0.347297</td>\n",
       "      <td>0.434733</td>\n",
       "      <td>-5.892882</td>\n",
       "      <td>0.526287</td>\n",
       "    </tr>\n",
       "    <tr>\n",
       "      <th>4</th>\n",
       "      <td>9.784056</td>\n",
       "      <td>11.664507</td>\n",
       "      <td>7.972138</td>\n",
       "      <td>10.843736</td>\n",
       "      <td>11.213981</td>\n",
       "      <td>11.730347</td>\n",
       "      <td>9.154123</td>\n",
       "      <td>12.779016</td>\n",
       "      <td>13.676264</td>\n",
       "      <td>12.962918</td>\n",
       "      <td>14.017662</td>\n",
       "      <td>14.139408</td>\n",
       "      <td>11.633564</td>\n",
       "      <td>9.376262</td>\n",
       "      <td>0.733471</td>\n",
       "      <td>-0.420043</td>\n",
       "      <td>0.581480</td>\n",
       "      <td>-6.646198</td>\n",
       "      <td>0.652960</td>\n",
       "    </tr>\n",
       "  </tbody>\n",
       "</table>\n",
       "</div>"
      ],
      "text/plain": [
       "      AtBat       Hits     HmRun       Runs        RBI      Walks     Years  \\\n",
       "0  6.780624   7.846413  5.668981   7.382901   7.739614   7.908231  6.536754   \n",
       "1  7.482871   8.711141  6.222836   8.176418   8.547140   8.775630  7.167294   \n",
       "2  8.221672   9.637282  6.796229   9.020407   9.399342   9.703560  7.819084   \n",
       "3  8.991208  10.622778  7.382157   9.911172  10.290649  10.689638  8.484413   \n",
       "4  9.784056  11.664507  7.972138  10.843736  11.213981  11.730347  9.154123   \n",
       "\n",
       "      CAtBat      CHits     CHmRun      CRuns       CRBI     CWalks   PutOuts  \\\n",
       "0   8.894638   9.417447   8.959603   9.653524   9.732533   8.177650  5.941721   \n",
       "1   9.803256  10.402015   9.888785  10.662606  10.750886   8.995532  6.681835   \n",
       "2  10.758248  11.443720  10.869669  11.730158  11.828595   9.849605  7.497878   \n",
       "3  11.752906  12.537320  11.896678  12.850766  12.960326  10.732098  8.394523   \n",
       "4  12.779016  13.676264  12.962918  14.017662  14.139408  11.633564  9.376262   \n",
       "\n",
       "    Assists    Errors  League_N  Division_W  NewLeague_N  \n",
       "0  0.482213 -0.198173  0.147069   -4.066839     0.260218  \n",
       "1  0.538299 -0.238435  0.221313   -4.609158     0.332227  \n",
       "2  0.598915 -0.287508  0.315973   -5.215881     0.420140  \n",
       "3  0.664011 -0.347297  0.434733   -5.892882     0.526287  \n",
       "4  0.733471 -0.420043  0.581480   -6.646198     0.652960  "
      ]
     },
     "execution_count": 22,
     "metadata": {},
     "output_type": "execute_result"
    }
   ],
   "source": [
    "# Your code for computing the coefficients goes here \n",
    "# I've included the code from last class that did this for the ridge version\n",
    "# so you should just need to update it to do lasso instead.\n",
    "\n",
    "\n",
    "coefs = []\n",
    "\n",
    "for a in alphas:\n",
    "    model = make_pipeline(StandardScaler(), Ridge(alpha = a))\n",
    "    model.fit(X, y)\n",
    "    coefs.append(model.named_steps['ridge'].coef_)\n",
    "    \n",
    "\n",
    "coefs = pd.DataFrame(coefs,columns = X_norm.columns)\n",
    "coefs.head()\n",
    "   "
   ]
  },
  {
   "cell_type": "code",
   "execution_count": 23,
   "id": "900f7150",
   "metadata": {
    "scrolled": true
   },
   "outputs": [
    {
     "data": {
      "text/plain": [
       "<matplotlib.legend.Legend at 0x76c8004e3310>"
      ]
     },
     "execution_count": 23,
     "metadata": {},
     "output_type": "execute_result"
    },
    {
     "data": {
      "image/png": "[encoded data removed]",
      "text/plain": [
       "<Figure size 640x480 with 1 Axes>"
      ]
     },
     "metadata": {},
     "output_type": "display_data"
    }
   ],
   "source": [
    "# If that worked above, you'll get a graph in this code. \n",
    "\n",
    "for var in coefs.columns:\n",
    "    # I'm greying out the ones that have magnitude below 200 to easier visualization\n",
    "    if np.abs(coefs[var][coefs.shape[0]-1])<200:\n",
    "        plt.plot(alphas, coefs[var], color = 'grey', linewidth = .5)\n",
    "    else:\n",
    "        plt.plot(alphas, coefs[var], label = var)\n",
    "\n",
    "plt.xscale('log')\n",
    "plt.axis('tight')\n",
    "plt.xlabel('alpha')\n",
    "plt.ylabel('coefficients')\n",
    "\n",
    "plt.legend()"
   ]
  },
  {
   "cell_type": "markdown",
   "id": "e656dec1",
   "metadata": {},
   "source": [
    "&#9989; **<font color=red>Do this:</font>** Make a graph the test mean squared error as $\\alpha$ changes for a fixed train/test split. \n",
    "\n",
    "*Note: again I've included code from last time that you should just have to update.*"
   ]
  },
  {
   "cell_type": "code",
   "execution_count": 24,
   "id": "9c6b2936",
   "metadata": {},
   "outputs": [],
   "source": [
    "# Update this code to get the MSE for lasso instead of Ridge\n",
    "X_train, X_test , y_train, y_test = train_test_split(X, y, test_size=0.3, random_state=1)\n",
    "\n",
    "errors = []\n",
    "\n",
    "for a in alphas:\n",
    "    model = make_pipeline(StandardScaler(), Ridge(alpha = a))\n",
    "    model.fit(X_train, y_train)\n",
    "\n",
    "    pred = model.predict(X_test)\n",
    "    errors.append(mean_squared_error(y_test, pred))\n"
   ]
  },
  {
   "cell_type": "code",
   "execution_count": 25,
   "id": "513ec63e",
   "metadata": {
    "scrolled": true
   },
   "outputs": [
    {
     "name": "stdout",
     "output_type": "stream",
     "text": [
      "Min occurs at alpha =  66.09705742330144\n",
      "Min MSE is 114449.74589139201\n"
     ]
    },
    {
     "data": {
      "image/png": "[encoded data removed]",
      "text/plain": [
       "<Figure size 640x480 with 1 Axes>"
      ]
     },
     "metadata": {},
     "output_type": "display_data"
    }
   ],
   "source": [
    "# If that worked, you should see your test error here.\n",
    "i = np.argmin(errors) # Index of minimum \n",
    "print('Min occurs at alpha = ', alphas[i])\n",
    "print('Min MSE is', errors[i])\n",
    "\n",
    "plt.title('Testing MSE')\n",
    "plt.plot(alphas,errors)\n",
    "plt.scatter(alphas[i],errors[i])\n",
    "ax=plt.gca()\n",
    "ax.set_xscale('log')\n",
    "\n"
   ]
  },
  {
   "cell_type": "markdown",
   "id": "0238b939",
   "metadata": {},
   "source": [
    "&#9989; **<font color=red>Do this:</font>** make a plot showing the number of non-zero coefficients in each model.\n",
    "\n",
    "*Hint: I used the `np.count_nonzero` command*"
   ]
  },
  {
   "cell_type": "code",
   "execution_count": 26,
   "id": "4f2b61b7",
   "metadata": {},
   "outputs": [
    {
     "name": "stderr",
     "output_type": "stream",
     "text": [
      "/opt/miniconda3/lib/python3.11/site-packages/sklearn/linear_model/_coordinate_descent.py:695: ConvergenceWarning: Objective did not converge. You might want to increase the number of iterations, check the scale of the features or consider increasing regularisation. Duality gap: 7.738e+03, tolerance: 5.332e+03\n",
      "  model = cd_fast.enet_coordinate_descent(\n",
      "/opt/miniconda3/lib/python3.11/site-packages/sklearn/linear_model/_coordinate_descent.py:695: ConvergenceWarning: Objective did not converge. You might want to increase the number of iterations, check the scale of the features or consider increasing regularisation. Duality gap: 1.210e+04, tolerance: 5.332e+03\n",
      "  model = cd_fast.enet_coordinate_descent(\n",
      "/opt/miniconda3/lib/python3.11/site-packages/sklearn/linear_model/_coordinate_descent.py:695: ConvergenceWarning: Objective did not converge. You might want to increase the number of iterations, check the scale of the features or consider increasing regularisation. Duality gap: 1.751e+04, tolerance: 5.332e+03\n",
      "  model = cd_fast.enet_coordinate_descent(\n",
      "/opt/miniconda3/lib/python3.11/site-packages/sklearn/linear_model/_coordinate_descent.py:695: ConvergenceWarning: Objective did not converge. You might want to increase the number of iterations, check the scale of the features or consider increasing regularisation. Duality gap: 2.085e+04, tolerance: 5.332e+03\n",
      "  model = cd_fast.enet_coordinate_descent(\n",
      "/opt/miniconda3/lib/python3.11/site-packages/sklearn/linear_model/_coordinate_descent.py:695: ConvergenceWarning: Objective did not converge. You might want to increase the number of iterations, check the scale of the features or consider increasing regularisation. Duality gap: 2.501e+04, tolerance: 5.332e+03\n",
      "  model = cd_fast.enet_coordinate_descent(\n",
      "/opt/miniconda3/lib/python3.11/site-packages/sklearn/linear_model/_coordinate_descent.py:695: ConvergenceWarning: Objective did not converge. You might want to increase the number of iterations, check the scale of the features or consider increasing regularisation. Duality gap: 3.030e+04, tolerance: 5.332e+03\n",
      "  model = cd_fast.enet_coordinate_descent(\n",
      "/opt/miniconda3/lib/python3.11/site-packages/sklearn/linear_model/_coordinate_descent.py:695: ConvergenceWarning: Objective did not converge. You might want to increase the number of iterations, check the scale of the features or consider increasing regularisation. Duality gap: 3.712e+04, tolerance: 5.332e+03\n",
      "  model = cd_fast.enet_coordinate_descent(\n",
      "/opt/miniconda3/lib/python3.11/site-packages/sklearn/linear_model/_coordinate_descent.py:695: ConvergenceWarning: Objective did not converge. You might want to increase the number of iterations, check the scale of the features or consider increasing regularisation. Duality gap: 4.599e+04, tolerance: 5.332e+03\n",
      "  model = cd_fast.enet_coordinate_descent(\n",
      "/opt/miniconda3/lib/python3.11/site-packages/sklearn/linear_model/_coordinate_descent.py:695: ConvergenceWarning: Objective did not converge. You might want to increase the number of iterations, check the scale of the features or consider increasing regularisation. Duality gap: 5.748e+04, tolerance: 5.332e+03\n",
      "  model = cd_fast.enet_coordinate_descent(\n",
      "/opt/miniconda3/lib/python3.11/site-packages/sklearn/linear_model/_coordinate_descent.py:695: ConvergenceWarning: Objective did not converge. You might want to increase the number of iterations, check the scale of the features or consider increasing regularisation. Duality gap: 7.222e+04, tolerance: 5.332e+03\n",
      "  model = cd_fast.enet_coordinate_descent(\n",
      "/opt/miniconda3/lib/python3.11/site-packages/sklearn/linear_model/_coordinate_descent.py:695: ConvergenceWarning: Objective did not converge. You might want to increase the number of iterations, check the scale of the features or consider increasing regularisation. Duality gap: 9.152e+04, tolerance: 5.332e+03\n",
      "  model = cd_fast.enet_coordinate_descent(\n",
      "/opt/miniconda3/lib/python3.11/site-packages/sklearn/linear_model/_coordinate_descent.py:695: ConvergenceWarning: Objective did not converge. You might want to increase the number of iterations, check the scale of the features or consider increasing regularisation. Duality gap: 1.163e+05, tolerance: 5.332e+03\n",
      "  model = cd_fast.enet_coordinate_descent(\n",
      "/opt/miniconda3/lib/python3.11/site-packages/sklearn/linear_model/_coordinate_descent.py:695: ConvergenceWarning: Objective did not converge. You might want to increase the number of iterations, check the scale of the features or consider increasing regularisation. Duality gap: 1.481e+05, tolerance: 5.332e+03\n",
      "  model = cd_fast.enet_coordinate_descent(\n",
      "/opt/miniconda3/lib/python3.11/site-packages/sklearn/linear_model/_coordinate_descent.py:695: ConvergenceWarning: Objective did not converge. You might want to increase the number of iterations, check the scale of the features or consider increasing regularisation. Duality gap: 1.549e+05, tolerance: 5.332e+03\n",
      "  model = cd_fast.enet_coordinate_descent(\n",
      "/opt/miniconda3/lib/python3.11/site-packages/sklearn/linear_model/_coordinate_descent.py:695: ConvergenceWarning: Objective did not converge. You might want to increase the number of iterations, check the scale of the features or consider increasing regularisation. Duality gap: 2.793e+05, tolerance: 5.332e+03\n",
      "  model = cd_fast.enet_coordinate_descent(\n",
      "/opt/miniconda3/lib/python3.11/site-packages/sklearn/linear_model/_coordinate_descent.py:695: ConvergenceWarning: Objective did not converge. You might want to increase the number of iterations, check the scale of the features or consider increasing regularisation. Duality gap: 5.564e+05, tolerance: 5.332e+03\n",
      "  model = cd_fast.enet_coordinate_descent(\n",
      "/opt/miniconda3/lib/python3.11/site-packages/sklearn/linear_model/_coordinate_descent.py:695: ConvergenceWarning: Objective did not converge. You might want to increase the number of iterations, check the scale of the features or consider increasing regularisation. Duality gap: 9.125e+05, tolerance: 5.332e+03\n",
      "  model = cd_fast.enet_coordinate_descent(\n",
      "/opt/miniconda3/lib/python3.11/site-packages/sklearn/linear_model/_coordinate_descent.py:695: ConvergenceWarning: Objective did not converge. You might want to increase the number of iterations, check the scale of the features or consider increasing regularisation. Duality gap: 1.342e+06, tolerance: 5.332e+03\n",
      "  model = cd_fast.enet_coordinate_descent(\n",
      "/opt/miniconda3/lib/python3.11/site-packages/sklearn/linear_model/_coordinate_descent.py:695: ConvergenceWarning: Objective did not converge. You might want to increase the number of iterations, check the scale of the features or consider increasing regularisation. Duality gap: 1.834e+06, tolerance: 5.332e+03\n",
      "  model = cd_fast.enet_coordinate_descent(\n",
      "/opt/miniconda3/lib/python3.11/site-packages/sklearn/linear_model/_coordinate_descent.py:695: ConvergenceWarning: Objective did not converge. You might want to increase the number of iterations, check the scale of the features or consider increasing regularisation. Duality gap: 2.379e+06, tolerance: 5.332e+03\n",
      "  model = cd_fast.enet_coordinate_descent(\n",
      "/opt/miniconda3/lib/python3.11/site-packages/sklearn/linear_model/_coordinate_descent.py:695: ConvergenceWarning: Objective did not converge. You might want to increase the number of iterations, check the scale of the features or consider increasing regularisation. Duality gap: 2.964e+06, tolerance: 5.332e+03\n",
      "  model = cd_fast.enet_coordinate_descent(\n",
      "/opt/miniconda3/lib/python3.11/site-packages/sklearn/linear_model/_coordinate_descent.py:695: ConvergenceWarning: Objective did not converge. You might want to increase the number of iterations, check the scale of the features or consider increasing regularisation. Duality gap: 3.574e+06, tolerance: 5.332e+03\n",
      "  model = cd_fast.enet_coordinate_descent(\n",
      "/opt/miniconda3/lib/python3.11/site-packages/sklearn/linear_model/_coordinate_descent.py:695: ConvergenceWarning: Objective did not converge. You might want to increase the number of iterations, check the scale of the features or consider increasing regularisation. Duality gap: 4.198e+06, tolerance: 5.332e+03\n",
      "  model = cd_fast.enet_coordinate_descent(\n",
      "/opt/miniconda3/lib/python3.11/site-packages/sklearn/linear_model/_coordinate_descent.py:695: ConvergenceWarning: Objective did not converge. You might want to increase the number of iterations, check the scale of the features or consider increasing regularisation. Duality gap: 4.823e+06, tolerance: 5.332e+03\n",
      "  model = cd_fast.enet_coordinate_descent(\n",
      "/opt/miniconda3/lib/python3.11/site-packages/sklearn/linear_model/_coordinate_descent.py:695: ConvergenceWarning: Objective did not converge. You might want to increase the number of iterations, check the scale of the features or consider increasing regularisation. Duality gap: 5.438e+06, tolerance: 5.332e+03\n",
      "  model = cd_fast.enet_coordinate_descent(\n",
      "/opt/miniconda3/lib/python3.11/site-packages/sklearn/linear_model/_coordinate_descent.py:695: ConvergenceWarning: Objective did not converge. You might want to increase the number of iterations, check the scale of the features or consider increasing regularisation. Duality gap: 6.034e+06, tolerance: 5.332e+03\n",
      "  model = cd_fast.enet_coordinate_descent(\n",
      "/opt/miniconda3/lib/python3.11/site-packages/sklearn/linear_model/_coordinate_descent.py:695: ConvergenceWarning: Objective did not converge. You might want to increase the number of iterations, check the scale of the features or consider increasing regularisation. Duality gap: 6.767e+06, tolerance: 5.332e+03\n",
      "  model = cd_fast.enet_coordinate_descent(\n",
      "/opt/miniconda3/lib/python3.11/site-packages/sklearn/linear_model/_coordinate_descent.py:695: ConvergenceWarning: Objective did not converge. You might want to increase the number of iterations, check the scale of the features or consider increasing regularisation. Duality gap: 7.514e+06, tolerance: 5.332e+03\n",
      "  model = cd_fast.enet_coordinate_descent(\n",
      "/opt/miniconda3/lib/python3.11/site-packages/sklearn/linear_model/_coordinate_descent.py:695: ConvergenceWarning: Objective did not converge. You might want to increase the number of iterations, check the scale of the features or consider increasing regularisation. Duality gap: 8.153e+06, tolerance: 5.332e+03\n",
      "  model = cd_fast.enet_coordinate_descent(\n",
      "/opt/miniconda3/lib/python3.11/site-packages/sklearn/linear_model/_coordinate_descent.py:695: ConvergenceWarning: Objective did not converge. You might want to increase the number of iterations, check the scale of the features or consider increasing regularisation. Duality gap: 8.699e+06, tolerance: 5.332e+03\n",
      "  model = cd_fast.enet_coordinate_descent(\n",
      "/opt/miniconda3/lib/python3.11/site-packages/sklearn/linear_model/_coordinate_descent.py:695: ConvergenceWarning: Objective did not converge. You might want to increase the number of iterations, check the scale of the features or consider increasing regularisation. Duality gap: 9.167e+06, tolerance: 5.332e+03\n",
      "  model = cd_fast.enet_coordinate_descent(\n",
      "/opt/miniconda3/lib/python3.11/site-packages/sklearn/linear_model/_coordinate_descent.py:695: ConvergenceWarning: Objective did not converge. You might want to increase the number of iterations, check the scale of the features or consider increasing regularisation. Duality gap: 9.569e+06, tolerance: 5.332e+03\n",
      "  model = cd_fast.enet_coordinate_descent(\n",
      "/opt/miniconda3/lib/python3.11/site-packages/sklearn/linear_model/_coordinate_descent.py:695: ConvergenceWarning: Objective did not converge. You might want to increase the number of iterations, check the scale of the features or consider increasing regularisation. Duality gap: 9.913e+06, tolerance: 5.332e+03\n",
      "  model = cd_fast.enet_coordinate_descent(\n",
      "/opt/miniconda3/lib/python3.11/site-packages/sklearn/linear_model/_coordinate_descent.py:695: ConvergenceWarning: Objective did not converge. You might want to increase the number of iterations, check the scale of the features or consider increasing regularisation. Duality gap: 1.021e+07, tolerance: 5.332e+03\n",
      "  model = cd_fast.enet_coordinate_descent(\n",
      "/opt/miniconda3/lib/python3.11/site-packages/sklearn/linear_model/_coordinate_descent.py:695: ConvergenceWarning: Objective did not converge. You might want to increase the number of iterations, check the scale of the features or consider increasing regularisation. Duality gap: 1.046e+07, tolerance: 5.332e+03\n",
      "  model = cd_fast.enet_coordinate_descent(\n",
      "/opt/miniconda3/lib/python3.11/site-packages/sklearn/linear_model/_coordinate_descent.py:695: ConvergenceWarning: Objective did not converge. You might want to increase the number of iterations, check the scale of the features or consider increasing regularisation. Duality gap: 1.068e+07, tolerance: 5.332e+03\n",
      "  model = cd_fast.enet_coordinate_descent(\n"
     ]
    },
    {
     "data": {
      "image/png": "[encoded data removed]",
      "text/plain": [
       "<Figure size 640x480 with 1 Axes>"
      ]
     },
     "metadata": {},
     "output_type": "display_data"
    }
   ],
   "source": [
    "non_zero_counts = []\n",
    "\n",
    "for a in alphas:\n",
    "    model = make_pipeline(StandardScaler(), Lasso(alpha=a))\n",
    "    model.fit(X, y)\n",
    "    coef = model.named_steps['lasso'].coef_\n",
    "    non_zero_counts.append(np.count_nonzero(coef))\n",
    "\n",
    "plt.plot(alphas, non_zero_counts)\n",
    "plt.xscale('log')\n",
    "plt.xlabel('alpha')\n",
    "plt.ylabel('Number of non-zero coefficients')\n",
    "plt.title('Lasso Feature Selection')\n",
    "plt.show()"
   ]
  },
  {
   "cell_type": "markdown",
   "id": "99e8c64c",
   "metadata": {},
   "source": [
    "&#9989; **<font color=red>Q:</font>** Say your goal was to end up with a model with 5 variables used. What choice of $\\alpha$ gives us that and what are the variables used?  \n"
   ]
  },
  {
   "cell_type": "code",
   "execution_count": 27,
   "id": "a8bd49f7",
   "metadata": {},
   "outputs": [
    {
     "name": "stderr",
     "output_type": "stream",
     "text": [
      "/opt/miniconda3/lib/python3.11/site-packages/sklearn/linear_model/_coordinate_descent.py:695: ConvergenceWarning: Objective did not converge. You might want to increase the number of iterations, check the scale of the features or consider increasing regularisation. Duality gap: 1.068e+07, tolerance: 5.332e+03\n",
      "  model = cd_fast.enet_coordinate_descent(\n",
      "/opt/miniconda3/lib/python3.11/site-packages/sklearn/linear_model/_coordinate_descent.py:695: ConvergenceWarning: Objective did not converge. You might want to increase the number of iterations, check the scale of the features or consider increasing regularisation. Duality gap: 1.046e+07, tolerance: 5.332e+03\n",
      "  model = cd_fast.enet_coordinate_descent(\n",
      "/opt/miniconda3/lib/python3.11/site-packages/sklearn/linear_model/_coordinate_descent.py:695: ConvergenceWarning: Objective did not converge. You might want to increase the number of iterations, check the scale of the features or consider increasing regularisation. Duality gap: 1.021e+07, tolerance: 5.332e+03\n",
      "  model = cd_fast.enet_coordinate_descent(\n",
      "/opt/miniconda3/lib/python3.11/site-packages/sklearn/linear_model/_coordinate_descent.py:695: ConvergenceWarning: Objective did not converge. You might want to increase the number of iterations, check the scale of the features or consider increasing regularisation. Duality gap: 9.913e+06, tolerance: 5.332e+03\n",
      "  model = cd_fast.enet_coordinate_descent(\n",
      "/opt/miniconda3/lib/python3.11/site-packages/sklearn/linear_model/_coordinate_descent.py:695: ConvergenceWarning: Objective did not converge. You might want to increase the number of iterations, check the scale of the features or consider increasing regularisation. Duality gap: 9.569e+06, tolerance: 5.332e+03\n",
      "  model = cd_fast.enet_coordinate_descent(\n",
      "/opt/miniconda3/lib/python3.11/site-packages/sklearn/linear_model/_coordinate_descent.py:695: ConvergenceWarning: Objective did not converge. You might want to increase the number of iterations, check the scale of the features or consider increasing regularisation. Duality gap: 9.167e+06, tolerance: 5.332e+03\n",
      "  model = cd_fast.enet_coordinate_descent(\n",
      "/opt/miniconda3/lib/python3.11/site-packages/sklearn/linear_model/_coordinate_descent.py:695: ConvergenceWarning: Objective did not converge. You might want to increase the number of iterations, check the scale of the features or consider increasing regularisation. Duality gap: 8.699e+06, tolerance: 5.332e+03\n",
      "  model = cd_fast.enet_coordinate_descent(\n",
      "/opt/miniconda3/lib/python3.11/site-packages/sklearn/linear_model/_coordinate_descent.py:695: ConvergenceWarning: Objective did not converge. You might want to increase the number of iterations, check the scale of the features or consider increasing regularisation. Duality gap: 8.153e+06, tolerance: 5.332e+03\n",
      "  model = cd_fast.enet_coordinate_descent(\n",
      "/opt/miniconda3/lib/python3.11/site-packages/sklearn/linear_model/_coordinate_descent.py:695: ConvergenceWarning: Objective did not converge. You might want to increase the number of iterations, check the scale of the features or consider increasing regularisation. Duality gap: 7.514e+06, tolerance: 5.332e+03\n",
      "  model = cd_fast.enet_coordinate_descent(\n",
      "/opt/miniconda3/lib/python3.11/site-packages/sklearn/linear_model/_coordinate_descent.py:695: ConvergenceWarning: Objective did not converge. You might want to increase the number of iterations, check the scale of the features or consider increasing regularisation. Duality gap: 6.767e+06, tolerance: 5.332e+03\n",
      "  model = cd_fast.enet_coordinate_descent(\n",
      "/opt/miniconda3/lib/python3.11/site-packages/sklearn/linear_model/_coordinate_descent.py:695: ConvergenceWarning: Objective did not converge. You might want to increase the number of iterations, check the scale of the features or consider increasing regularisation. Duality gap: 6.034e+06, tolerance: 5.332e+03\n",
      "  model = cd_fast.enet_coordinate_descent(\n",
      "/opt/miniconda3/lib/python3.11/site-packages/sklearn/linear_model/_coordinate_descent.py:695: ConvergenceWarning: Objective did not converge. You might want to increase the number of iterations, check the scale of the features or consider increasing regularisation. Duality gap: 5.438e+06, tolerance: 5.332e+03\n",
      "  model = cd_fast.enet_coordinate_descent(\n",
      "/opt/miniconda3/lib/python3.11/site-packages/sklearn/linear_model/_coordinate_descent.py:695: ConvergenceWarning: Objective did not converge. You might want to increase the number of iterations, check the scale of the features or consider increasing regularisation. Duality gap: 4.823e+06, tolerance: 5.332e+03\n",
      "  model = cd_fast.enet_coordinate_descent(\n",
      "/opt/miniconda3/lib/python3.11/site-packages/sklearn/linear_model/_coordinate_descent.py:695: ConvergenceWarning: Objective did not converge. You might want to increase the number of iterations, check the scale of the features or consider increasing regularisation. Duality gap: 4.198e+06, tolerance: 5.332e+03\n",
      "  model = cd_fast.enet_coordinate_descent(\n",
      "/opt/miniconda3/lib/python3.11/site-packages/sklearn/linear_model/_coordinate_descent.py:695: ConvergenceWarning: Objective did not converge. You might want to increase the number of iterations, check the scale of the features or consider increasing regularisation. Duality gap: 3.574e+06, tolerance: 5.332e+03\n",
      "  model = cd_fast.enet_coordinate_descent(\n",
      "/opt/miniconda3/lib/python3.11/site-packages/sklearn/linear_model/_coordinate_descent.py:695: ConvergenceWarning: Objective did not converge. You might want to increase the number of iterations, check the scale of the features or consider increasing regularisation. Duality gap: 2.964e+06, tolerance: 5.332e+03\n",
      "  model = cd_fast.enet_coordinate_descent(\n",
      "/opt/miniconda3/lib/python3.11/site-packages/sklearn/linear_model/_coordinate_descent.py:695: ConvergenceWarning: Objective did not converge. You might want to increase the number of iterations, check the scale of the features or consider increasing regularisation. Duality gap: 2.379e+06, tolerance: 5.332e+03\n",
      "  model = cd_fast.enet_coordinate_descent(\n",
      "/opt/miniconda3/lib/python3.11/site-packages/sklearn/linear_model/_coordinate_descent.py:695: ConvergenceWarning: Objective did not converge. You might want to increase the number of iterations, check the scale of the features or consider increasing regularisation. Duality gap: 1.834e+06, tolerance: 5.332e+03\n",
      "  model = cd_fast.enet_coordinate_descent(\n",
      "/opt/miniconda3/lib/python3.11/site-packages/sklearn/linear_model/_coordinate_descent.py:695: ConvergenceWarning: Objective did not converge. You might want to increase the number of iterations, check the scale of the features or consider increasing regularisation. Duality gap: 1.342e+06, tolerance: 5.332e+03\n",
      "  model = cd_fast.enet_coordinate_descent(\n",
      "/opt/miniconda3/lib/python3.11/site-packages/sklearn/linear_model/_coordinate_descent.py:695: ConvergenceWarning: Objective did not converge. You might want to increase the number of iterations, check the scale of the features or consider increasing regularisation. Duality gap: 9.125e+05, tolerance: 5.332e+03\n",
      "  model = cd_fast.enet_coordinate_descent(\n",
      "/opt/miniconda3/lib/python3.11/site-packages/sklearn/linear_model/_coordinate_descent.py:695: ConvergenceWarning: Objective did not converge. You might want to increase the number of iterations, check the scale of the features or consider increasing regularisation. Duality gap: 5.564e+05, tolerance: 5.332e+03\n",
      "  model = cd_fast.enet_coordinate_descent(\n",
      "/opt/miniconda3/lib/python3.11/site-packages/sklearn/linear_model/_coordinate_descent.py:695: ConvergenceWarning: Objective did not converge. You might want to increase the number of iterations, check the scale of the features or consider increasing regularisation. Duality gap: 2.793e+05, tolerance: 5.332e+03\n",
      "  model = cd_fast.enet_coordinate_descent(\n",
      "/opt/miniconda3/lib/python3.11/site-packages/sklearn/linear_model/_coordinate_descent.py:695: ConvergenceWarning: Objective did not converge. You might want to increase the number of iterations, check the scale of the features or consider increasing regularisation. Duality gap: 1.549e+05, tolerance: 5.332e+03\n",
      "  model = cd_fast.enet_coordinate_descent(\n",
      "/opt/miniconda3/lib/python3.11/site-packages/sklearn/linear_model/_coordinate_descent.py:695: ConvergenceWarning: Objective did not converge. You might want to increase the number of iterations, check the scale of the features or consider increasing regularisation. Duality gap: 1.481e+05, tolerance: 5.332e+03\n",
      "  model = cd_fast.enet_coordinate_descent(\n",
      "/opt/miniconda3/lib/python3.11/site-packages/sklearn/linear_model/_coordinate_descent.py:695: ConvergenceWarning: Objective did not converge. You might want to increase the number of iterations, check the scale of the features or consider increasing regularisation. Duality gap: 1.163e+05, tolerance: 5.332e+03\n",
      "  model = cd_fast.enet_coordinate_descent(\n",
      "/opt/miniconda3/lib/python3.11/site-packages/sklearn/linear_model/_coordinate_descent.py:695: ConvergenceWarning: Objective did not converge. You might want to increase the number of iterations, check the scale of the features or consider increasing regularisation. Duality gap: 9.152e+04, tolerance: 5.332e+03\n",
      "  model = cd_fast.enet_coordinate_descent(\n",
      "/opt/miniconda3/lib/python3.11/site-packages/sklearn/linear_model/_coordinate_descent.py:695: ConvergenceWarning: Objective did not converge. You might want to increase the number of iterations, check the scale of the features or consider increasing regularisation. Duality gap: 7.222e+04, tolerance: 5.332e+03\n",
      "  model = cd_fast.enet_coordinate_descent(\n",
      "/opt/miniconda3/lib/python3.11/site-packages/sklearn/linear_model/_coordinate_descent.py:695: ConvergenceWarning: Objective did not converge. You might want to increase the number of iterations, check the scale of the features or consider increasing regularisation. Duality gap: 5.748e+04, tolerance: 5.332e+03\n",
      "  model = cd_fast.enet_coordinate_descent(\n",
      "/opt/miniconda3/lib/python3.11/site-packages/sklearn/linear_model/_coordinate_descent.py:695: ConvergenceWarning: Objective did not converge. You might want to increase the number of iterations, check the scale of the features or consider increasing regularisation. Duality gap: 4.599e+04, tolerance: 5.332e+03\n",
      "  model = cd_fast.enet_coordinate_descent(\n",
      "/opt/miniconda3/lib/python3.11/site-packages/sklearn/linear_model/_coordinate_descent.py:695: ConvergenceWarning: Objective did not converge. You might want to increase the number of iterations, check the scale of the features or consider increasing regularisation. Duality gap: 3.712e+04, tolerance: 5.332e+03\n",
      "  model = cd_fast.enet_coordinate_descent(\n",
      "/opt/miniconda3/lib/python3.11/site-packages/sklearn/linear_model/_coordinate_descent.py:695: ConvergenceWarning: Objective did not converge. You might want to increase the number of iterations, check the scale of the features or consider increasing regularisation. Duality gap: 3.030e+04, tolerance: 5.332e+03\n",
      "  model = cd_fast.enet_coordinate_descent(\n",
      "/opt/miniconda3/lib/python3.11/site-packages/sklearn/linear_model/_coordinate_descent.py:695: ConvergenceWarning: Objective did not converge. You might want to increase the number of iterations, check the scale of the features or consider increasing regularisation. Duality gap: 2.501e+04, tolerance: 5.332e+03\n",
      "  model = cd_fast.enet_coordinate_descent(\n",
      "/opt/miniconda3/lib/python3.11/site-packages/sklearn/linear_model/_coordinate_descent.py:695: ConvergenceWarning: Objective did not converge. You might want to increase the number of iterations, check the scale of the features or consider increasing regularisation. Duality gap: 2.085e+04, tolerance: 5.332e+03\n",
      "  model = cd_fast.enet_coordinate_descent(\n"
     ]
    },
    {
     "name": "stdout",
     "output_type": "stream",
     "text": [
      "Alpha for 5 variables: 75.9956\n",
      "Selected variables:\n",
      "['Hits', 'Walks', 'CRuns', 'CRBI', 'PutOuts']\n"
     ]
    },
    {
     "name": "stderr",
     "output_type": "stream",
     "text": [
      "/opt/miniconda3/lib/python3.11/site-packages/sklearn/linear_model/_coordinate_descent.py:695: ConvergenceWarning: Objective did not converge. You might want to increase the number of iterations, check the scale of the features or consider increasing regularisation. Duality gap: 1.751e+04, tolerance: 5.332e+03\n",
      "  model = cd_fast.enet_coordinate_descent(\n",
      "/opt/miniconda3/lib/python3.11/site-packages/sklearn/linear_model/_coordinate_descent.py:695: ConvergenceWarning: Objective did not converge. You might want to increase the number of iterations, check the scale of the features or consider increasing regularisation. Duality gap: 1.210e+04, tolerance: 5.332e+03\n",
      "  model = cd_fast.enet_coordinate_descent(\n",
      "/opt/miniconda3/lib/python3.11/site-packages/sklearn/linear_model/_coordinate_descent.py:695: ConvergenceWarning: Objective did not converge. You might want to increase the number of iterations, check the scale of the features or consider increasing regularisation. Duality gap: 7.738e+03, tolerance: 5.332e+03\n",
      "  model = cd_fast.enet_coordinate_descent(\n"
     ]
    }
   ],
   "source": [
    "from sklearn.linear_model import Lasso\n",
    "\n",
    "# Find alpha that gives exactly 5 non-zero coefficients\n",
    "target_n_coefs = 5\n",
    "best_alpha = None\n",
    "best_coefs = None\n",
    "\n",
    "# Search through alphas to find the one that gives 5 non-zero coefs\n",
    "for a in sorted(alphas):\n",
    "    model = make_pipeline(StandardScaler(), Lasso(alpha=a))\n",
    "    model.fit(X, y)\n",
    "    coefs = model.named_steps['lasso'].coef_\n",
    "    n_nonzero = np.count_nonzero(coefs)\n",
    "    \n",
    "    if n_nonzero == target_n_coefs:\n",
    "        best_alpha = a\n",
    "        best_coefs = coefs\n",
    "        break\n",
    "    elif n_nonzero < target_n_coefs:\n",
    "        # If we've passed our target, take the previous alpha\n",
    "        break\n",
    "\n",
    "if best_alpha is not None:\n",
    "    print(f\"Alpha for 5 variables: {best_alpha:.4f}\")\n",
    "    print(\"Selected variables:\")\n",
    "    selected_vars = X.columns[best_coefs != 0]\n",
    "    print(selected_vars.tolist())\n",
    "else:\n",
    "    print(\"No alpha in this range gives exactly 5 variables\")"
   ]
  },
  {
   "cell_type": "markdown",
   "id": "372b7ab6",
   "metadata": {},
   "source": [
    "## Lasso with Cross Validation\n",
    "\n",
    "&#9989; **<font color=red>Do this:</font>** Now try what we did with `LassoCV`.  What choice of $\\alpha$ does it recommend? \n",
    "\n",
    "*I would actually recommend either not passing in any $\\alpha$ list or passing explicitly `alphas = None`. `RidgeCV` can't do this, but `LassoCV` will automatically try to find good choices of $\\alpha$ for you.*"
   ]
  },
  {
   "cell_type": "code",
   "execution_count": 28,
   "id": "1e4b5fc7",
   "metadata": {
    "scrolled": true
   },
   "outputs": [
    {
     "name": "stdout",
     "output_type": "stream",
     "text": [
      "alpha chosen is 1.5269277544167077\n"
     ]
    }
   ],
   "source": [
    "# Here's the ridge code from last time that you should update\n",
    "\n",
    "X_train, X_test , y_train, y_test = train_test_split(X, y, test_size=0.3, random_state=1)\n",
    "\n",
    "# To make sure my normalization isn't snooping, I fit the transformer only \n",
    "# on the training set \n",
    "transformer = StandardScaler().fit(X_train)\n",
    "# transformer.set_output(transform = 'pandas')\n",
    "X_train_norm = pd.DataFrame(transformer.transform(X_train), columns = X_train.columns)\n",
    "\n",
    "# but in order for my output results to make sense, I have to apply the same \n",
    "# transformation to the testing set. \n",
    "X_test_norm = transformer.transform(X_test)\n",
    "\n",
    "# I'm going to drop that 0 from the alphas because it makes \n",
    "# RidgeCV cranky\n",
    "alphas = alphas[:-1]\n",
    "\n",
    "\n",
    "ridgecv = RidgeCV(alphas = alphas, \n",
    "                  scoring = 'neg_mean_squared_error', \n",
    "                  )\n",
    "ridgecv.fit(X_train_norm, y_train)\n",
    "\n",
    "print('alpha chosen is', ridgecv.alpha_)\n"
   ]
  },
  {
   "cell_type": "code",
   "execution_count": 31,
   "id": "7fe50336",
   "metadata": {},
   "outputs": [
    {
     "name": "stdout",
     "output_type": "stream",
     "text": [
      "Optimal alpha from LassoCV: 1.0800619536094402\n",
      "Number of non-zero coefficients: 18\n",
      "Selected features: ['AtBat', 'Hits', 'HmRun', 'Runs', 'RBI', 'Walks', 'CAtBat', 'CHits', 'CHmRun', 'CRuns', 'CRBI', 'CWalks', 'PutOuts', 'Assists', 'Errors', 'League_N', 'Division_W', 'NewLeague_N']\n"
     ]
    },
    {
     "name": "stderr",
     "output_type": "stream",
     "text": [
      "/opt/miniconda3/lib/python3.11/site-packages/sklearn/linear_model/_coordinate_descent.py:681: ConvergenceWarning: Objective did not converge. You might want to increase the number of iterations. Duality gap: 3967.876866813749, tolerance: 3280.1276823233893\n",
      "  model = cd_fast.enet_coordinate_descent_gram(\n",
      "/opt/miniconda3/lib/python3.11/site-packages/sklearn/linear_model/_coordinate_descent.py:681: ConvergenceWarning: Objective did not converge. You might want to increase the number of iterations. Duality gap: 4283.350349199027, tolerance: 3280.1276823233893\n",
      "  model = cd_fast.enet_coordinate_descent_gram(\n",
      "/opt/miniconda3/lib/python3.11/site-packages/sklearn/linear_model/_coordinate_descent.py:681: ConvergenceWarning: Objective did not converge. You might want to increase the number of iterations. Duality gap: 4426.6335661988705, tolerance: 3280.1276823233893\n",
      "  model = cd_fast.enet_coordinate_descent_gram(\n",
      "/opt/miniconda3/lib/python3.11/site-packages/sklearn/linear_model/_coordinate_descent.py:681: ConvergenceWarning: Objective did not converge. You might want to increase the number of iterations. Duality gap: 4366.313506662846, tolerance: 3280.1276823233893\n",
      "  model = cd_fast.enet_coordinate_descent_gram(\n",
      "/opt/miniconda3/lib/python3.11/site-packages/sklearn/linear_model/_coordinate_descent.py:681: ConvergenceWarning: Objective did not converge. You might want to increase the number of iterations. Duality gap: 4140.193168826401, tolerance: 3280.1276823233893\n",
      "  model = cd_fast.enet_coordinate_descent_gram(\n",
      "/opt/miniconda3/lib/python3.11/site-packages/sklearn/linear_model/_coordinate_descent.py:681: ConvergenceWarning: Objective did not converge. You might want to increase the number of iterations. Duality gap: 3893.2171391751617, tolerance: 3280.1276823233893\n",
      "  model = cd_fast.enet_coordinate_descent_gram(\n",
      "/opt/miniconda3/lib/python3.11/site-packages/sklearn/linear_model/_coordinate_descent.py:681: ConvergenceWarning: Objective did not converge. You might want to increase the number of iterations. Duality gap: 3656.511303987354, tolerance: 3280.1276823233893\n",
      "  model = cd_fast.enet_coordinate_descent_gram(\n",
      "/opt/miniconda3/lib/python3.11/site-packages/sklearn/linear_model/_coordinate_descent.py:681: ConvergenceWarning: Objective did not converge. You might want to increase the number of iterations. Duality gap: 3849.196019191295, tolerance: 3280.1276823233893\n",
      "  model = cd_fast.enet_coordinate_descent_gram(\n",
      "/opt/miniconda3/lib/python3.11/site-packages/sklearn/linear_model/_coordinate_descent.py:681: ConvergenceWarning: Objective did not converge. You might want to increase the number of iterations. Duality gap: 3821.072632819414, tolerance: 3280.1276823233893\n",
      "  model = cd_fast.enet_coordinate_descent_gram(\n",
      "/opt/miniconda3/lib/python3.11/site-packages/sklearn/linear_model/_coordinate_descent.py:681: ConvergenceWarning: Objective did not converge. You might want to increase the number of iterations. Duality gap: 4584.570597540587, tolerance: 3280.1276823233893\n",
      "  model = cd_fast.enet_coordinate_descent_gram(\n",
      "/opt/miniconda3/lib/python3.11/site-packages/sklearn/linear_model/_coordinate_descent.py:681: ConvergenceWarning: Objective did not converge. You might want to increase the number of iterations. Duality gap: 5657.641913369298, tolerance: 3280.1276823233893\n",
      "  model = cd_fast.enet_coordinate_descent_gram(\n",
      "/opt/miniconda3/lib/python3.11/site-packages/sklearn/linear_model/_coordinate_descent.py:681: ConvergenceWarning: Objective did not converge. You might want to increase the number of iterations. Duality gap: 6224.345923068002, tolerance: 3280.1276823233893\n",
      "  model = cd_fast.enet_coordinate_descent_gram(\n",
      "/opt/miniconda3/lib/python3.11/site-packages/sklearn/linear_model/_coordinate_descent.py:681: ConvergenceWarning: Objective did not converge. You might want to increase the number of iterations. Duality gap: 6272.583457805216, tolerance: 3280.1276823233893\n",
      "  model = cd_fast.enet_coordinate_descent_gram(\n",
      "/opt/miniconda3/lib/python3.11/site-packages/sklearn/linear_model/_coordinate_descent.py:681: ConvergenceWarning: Objective did not converge. You might want to increase the number of iterations. Duality gap: 6195.188682980835, tolerance: 3280.1276823233893\n",
      "  model = cd_fast.enet_coordinate_descent_gram(\n",
      "/opt/miniconda3/lib/python3.11/site-packages/sklearn/linear_model/_coordinate_descent.py:681: ConvergenceWarning: Objective did not converge. You might want to increase the number of iterations. Duality gap: 6091.650837153196, tolerance: 3280.1276823233893\n",
      "  model = cd_fast.enet_coordinate_descent_gram(\n"
     ]
    }
   ],
   "source": [
    "from sklearn.linear_model import LassoCV\n",
    "\n",
    "# Split the data (same as before)\n",
    "X_train, X_test, y_train, y_test = train_test_split(X, y, test_size=0.3, random_state=1)\n",
    "\n",
    "# Fit StandardScaler ONLY on training data (prevent data leakage)\n",
    "scaler = StandardScaler().fit(X_train)\n",
    "X_train_scaled = scaler.transform(X_train)\n",
    "X_test_scaled = scaler.transform(X_test)  # Apply same scaling to test data\n",
    "\n",
    "# Let LassoCV automatically choose alpha range (set alphas=None)\n",
    "lassocv = LassoCV(alphas=None, cv=5, random_state=1)\n",
    "lassocv.fit(X_train_scaled, y_train)\n",
    "\n",
    "# Results\n",
    "print(\"Optimal alpha from LassoCV:\", lassocv.alpha_)\n",
    "print(\"Number of non-zero coefficients:\", np.count_nonzero(lassocv.coef_))\n",
    "\n",
    "# Show selected features\n",
    "selected_features = X.columns[lassocv.coef_ != 0]\n",
    "print(\"Selected features:\", list(selected_features))"
   ]
  },
  {
   "cell_type": "markdown",
   "id": "c4d3ee5d",
   "metadata": {},
   "source": [
    "Now let's take a look at some of the coefficients. "
   ]
  },
  {
   "cell_type": "code",
   "execution_count": 32,
   "id": "691eabf1",
   "metadata": {
    "scrolled": true
   },
   "outputs": [
    {
     "data": {
      "text/plain": [
       "AtBat         -328.601267\n",
       "Hits           351.501357\n",
       "HmRun          -28.435135\n",
       "Runs           -48.625331\n",
       "RBI             56.256350\n",
       "Walks          124.840026\n",
       "Years           -0.000000\n",
       "CAtBat        -368.328399\n",
       "CHits          365.286546\n",
       "CHmRun         143.047744\n",
       "CRuns          128.855535\n",
       "CRBI            70.376722\n",
       "CWalks        -143.423781\n",
       "PutOuts         93.738170\n",
       "Assists          9.972723\n",
       "Errors           0.274326\n",
       "League_N         8.803090\n",
       "Division_W     -60.734020\n",
       "NewLeague_N      9.219834\n",
       "dtype: float64"
      ]
     },
     "execution_count": 32,
     "metadata": {},
     "output_type": "execute_result"
    }
   ],
   "source": [
    "# Some of the coefficients are now reduced to exactly zero.\n",
    "pd.Series(lassocv.coef_, index=X.columns)"
   ]
  },
  {
   "cell_type": "markdown",
   "id": "a56b02f1",
   "metadata": {},
   "source": [
    "&#9989; **<font color=red>Q:</font>** We've been repeating over and over that lasso gives us coefficients that are actually 0.  At least in my code, I'm not seeing many that are 0. What happened? Can I change something to get more 0 entries? \n",
    "\n",
    "**Lasso only zeros out coefficients when the penalty (alpha) is large enough. If your alpha is too small (or LassoCV chose a small alpha for better prediction), few coefficients will be zero. To get more zeros: Increase alpha (try alpha=10 or 100), Use a custom alpha range (e.g., np.logspace(0, 3, 100)), Check standardization—Lasso needs scaled features to penalize fairly.**"
   ]
  },
  {
   "cell_type": "code",
   "execution_count": 34,
   "id": "7da8e0a7",
   "metadata": {},
   "outputs": [
    {
     "name": "stdout",
     "output_type": "stream",
     "text": [
      "Non-zero coefs: 8\n",
      "Selected vars: Index(['Hits', 'Walks', 'CHmRun', 'CRBI', 'PutOuts', 'Assists', 'Division_W',\n",
      "       'NewLeague_N'],\n",
      "      dtype='object')\n"
     ]
    }
   ],
   "source": [
    "# Try larger alphas (e.g., 10x or 100x the LassoCV-recommended alpha)\n",
    "alpha_aggressive = lassocv.alpha_ * 10  # or use a fixed large value like 100\n",
    "lasso = Lasso(alpha=alpha_aggressive).fit(X_train_scaled, y_train)\n",
    "print(\"Non-zero coefs:\", np.count_nonzero(lasso.coef_))\n",
    "print(\"Selected vars:\", X.columns[lasso.coef_ != 0])"
   ]
  },
  {
   "cell_type": "markdown",
   "id": "66f79113",
   "metadata": {},
   "source": [
    "\n",
    "\n",
    "-----\n",
    "### Congratulations, we're done!\n",
    "Written by Dr. Liz Munch, Michigan State University\n",
    "\n",
    "<a rel=\"license\" href=\"http://creativecommons.org/licenses/by-nc/4.0/\"><img alt=\"Creative Commons License\" style=\"border-width:0\" src=\"https://i.creativecommons.org/l/by-nc/4.0/88x31.png\" /></a><br />This work is licensed under a <a rel=\"license\" href=\"http://creativecommons.org/licenses/by-nc/4.0/\">Creative Commons Attribution-NonCommercial 4.0 International License</a>."
   ]
  },
  {
   "cell_type": "code",
   "execution_count": null,
   "id": "3fb8354f",
   "metadata": {},
   "outputs": [],
   "source": []
  },
  {
   "cell_type": "code",
   "execution_count": null,
   "id": "ab481763-26ce-48b8-89be-238338395c65",
   "metadata": {},
   "outputs": [],
   "source": []
  },
  {
   "cell_type": "code",
   "execution_count": null,
   "id": "6ea587b6-925a-4b11-9cd5-e643b3c2381f",
   "metadata": {},
   "outputs": [],
   "source": []
  },
  {
   "cell_type": "code",
   "execution_count": null,
   "id": "496d1117-141f-4128-9450-79e6c01a8032",
   "metadata": {},
   "outputs": [],
   "source": []
  }
 ],
 "metadata": {
  "kernelspec": {
   "display_name": "Python 3.11 (default)",
   "language": "python",
   "name": "python3"
  },
  "language_info": {
   "codemirror_mode": {
    "name": "ipython",
    "version": 3
   },
   "file_extension": ".py",
   "mimetype": "text/x-python",
   "name": "python",
   "nbconvert_exporter": "python",
   "pygments_lexer": "ipython3",
   "version": "3.11.12"
  }
 },
 "nbformat": 4,
 "nbformat_minor": 5
}
