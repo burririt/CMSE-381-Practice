{
 "cells": [
  {
   "cell_type": "markdown",
   "metadata": {},
   "source": [
    "# Lab: Yes, Even More Linear Regression\n",
    "## CMSE 381 - Fall 2023\n",
    "## Lecture 8, Sep 16, 2023\n",
    "\n",
    "In the last few lectures, we have focused on linear regression, that is, fitting models of the form \n",
    "$$\n",
    "Y =  \\beta_0 +  \\beta_1 X_1 +  \\beta_2 X_2 + \\cdots +  \\beta_pX_p + \\varepsilon\n",
    "$$\n",
    "In this lab, we will continue to use two different tools for linear regression. \n",
    "- [Scikit learn](https://scikit-learn.org/stable/index.html) is arguably the most used tool for machine learning in python \n",
    "- [Statsmodels](https://www.statsmodels.org) provides many of the statisitcial tests we've been learning in class\n",
    "\n",
    "This lab will be a recap of what we covered in the last few lectures."
   ]
  },
  {
   "cell_type": "code",
   "execution_count": 14,
   "metadata": {},
   "outputs": [],
   "source": [
    "# As always, we start with our favorite standard imports. \n",
    "\n",
    "import numpy as np\n",
    "import pandas as pd\n",
    "import matplotlib.pyplot as plt \n",
    "%matplotlib inline\n",
    "import seaborn as sns\n",
    "import statsmodels.formula.api as smf"
   ]
  },
  {
   "cell_type": "markdown",
   "metadata": {},
   "source": [
    "## Let's look back on our college data set:"
   ]
  },
  {
   "cell_type": "code",
   "execution_count": 15,
   "metadata": {},
   "outputs": [
    {
     "data": {
      "text/html": [
       "<div>\n",
       "<style scoped>\n",
       "    .dataframe tbody tr th:only-of-type {\n",
       "        vertical-align: middle;\n",
       "    }\n",
       "\n",
       "    .dataframe tbody tr th {\n",
       "        vertical-align: top;\n",
       "    }\n",
       "\n",
       "    .dataframe thead th {\n",
       "        text-align: right;\n",
       "    }\n",
       "</style>\n",
       "<table border=\"1\" class=\"dataframe\">\n",
       "  <thead>\n",
       "    <tr style=\"text-align: right;\">\n",
       "      <th></th>\n",
       "      <th>Private</th>\n",
       "      <th>Apps</th>\n",
       "      <th>Accept</th>\n",
       "      <th>Enroll</th>\n",
       "      <th>Top10perc</th>\n",
       "      <th>Top25perc</th>\n",
       "      <th>F.Undergrad</th>\n",
       "      <th>P.Undergrad</th>\n",
       "      <th>Outstate</th>\n",
       "      <th>Room.Board</th>\n",
       "      <th>Books</th>\n",
       "      <th>Personal</th>\n",
       "      <th>PhD</th>\n",
       "      <th>Terminal</th>\n",
       "      <th>SFRatio</th>\n",
       "      <th>perc.alumni</th>\n",
       "      <th>Expend</th>\n",
       "      <th>GradRate</th>\n",
       "    </tr>\n",
       "    <tr>\n",
       "      <th>College</th>\n",
       "      <th></th>\n",
       "      <th></th>\n",
       "      <th></th>\n",
       "      <th></th>\n",
       "      <th></th>\n",
       "      <th></th>\n",
       "      <th></th>\n",
       "      <th></th>\n",
       "      <th></th>\n",
       "      <th></th>\n",
       "      <th></th>\n",
       "      <th></th>\n",
       "      <th></th>\n",
       "      <th></th>\n",
       "      <th></th>\n",
       "      <th></th>\n",
       "      <th></th>\n",
       "      <th></th>\n",
       "    </tr>\n",
       "  </thead>\n",
       "  <tbody>\n",
       "    <tr>\n",
       "      <th>Abilene Christian University</th>\n",
       "      <td>Yes</td>\n",
       "      <td>1660</td>\n",
       "      <td>1232</td>\n",
       "      <td>721</td>\n",
       "      <td>23</td>\n",
       "      <td>52</td>\n",
       "      <td>2885</td>\n",
       "      <td>537</td>\n",
       "      <td>7440</td>\n",
       "      <td>3300</td>\n",
       "      <td>450</td>\n",
       "      <td>2200</td>\n",
       "      <td>70</td>\n",
       "      <td>78</td>\n",
       "      <td>18.1</td>\n",
       "      <td>12</td>\n",
       "      <td>7041</td>\n",
       "      <td>60</td>\n",
       "    </tr>\n",
       "    <tr>\n",
       "      <th>Adelphi University</th>\n",
       "      <td>Yes</td>\n",
       "      <td>2186</td>\n",
       "      <td>1924</td>\n",
       "      <td>512</td>\n",
       "      <td>16</td>\n",
       "      <td>29</td>\n",
       "      <td>2683</td>\n",
       "      <td>1227</td>\n",
       "      <td>12280</td>\n",
       "      <td>6450</td>\n",
       "      <td>750</td>\n",
       "      <td>1500</td>\n",
       "      <td>29</td>\n",
       "      <td>30</td>\n",
       "      <td>12.2</td>\n",
       "      <td>16</td>\n",
       "      <td>10527</td>\n",
       "      <td>56</td>\n",
       "    </tr>\n",
       "    <tr>\n",
       "      <th>Adrian College</th>\n",
       "      <td>Yes</td>\n",
       "      <td>1428</td>\n",
       "      <td>1097</td>\n",
       "      <td>336</td>\n",
       "      <td>22</td>\n",
       "      <td>50</td>\n",
       "      <td>1036</td>\n",
       "      <td>99</td>\n",
       "      <td>11250</td>\n",
       "      <td>3750</td>\n",
       "      <td>400</td>\n",
       "      <td>1165</td>\n",
       "      <td>53</td>\n",
       "      <td>66</td>\n",
       "      <td>12.9</td>\n",
       "      <td>30</td>\n",
       "      <td>8735</td>\n",
       "      <td>54</td>\n",
       "    </tr>\n",
       "    <tr>\n",
       "      <th>Agnes Scott College</th>\n",
       "      <td>Yes</td>\n",
       "      <td>417</td>\n",
       "      <td>349</td>\n",
       "      <td>137</td>\n",
       "      <td>60</td>\n",
       "      <td>89</td>\n",
       "      <td>510</td>\n",
       "      <td>63</td>\n",
       "      <td>12960</td>\n",
       "      <td>5450</td>\n",
       "      <td>450</td>\n",
       "      <td>875</td>\n",
       "      <td>92</td>\n",
       "      <td>97</td>\n",
       "      <td>7.7</td>\n",
       "      <td>37</td>\n",
       "      <td>19016</td>\n",
       "      <td>59</td>\n",
       "    </tr>\n",
       "    <tr>\n",
       "      <th>Alaska Pacific University</th>\n",
       "      <td>Yes</td>\n",
       "      <td>193</td>\n",
       "      <td>146</td>\n",
       "      <td>55</td>\n",
       "      <td>16</td>\n",
       "      <td>44</td>\n",
       "      <td>249</td>\n",
       "      <td>869</td>\n",
       "      <td>7560</td>\n",
       "      <td>4120</td>\n",
       "      <td>800</td>\n",
       "      <td>1500</td>\n",
       "      <td>76</td>\n",
       "      <td>72</td>\n",
       "      <td>11.9</td>\n",
       "      <td>2</td>\n",
       "      <td>10922</td>\n",
       "      <td>15</td>\n",
       "    </tr>\n",
       "  </tbody>\n",
       "</table>\n",
       "</div>"
      ],
      "text/plain": [
       "                             Private  Apps  Accept  Enroll  Top10perc  \\\n",
       "College                                                                 \n",
       "Abilene Christian University     Yes  1660    1232     721         23   \n",
       "Adelphi University               Yes  2186    1924     512         16   \n",
       "Adrian College                   Yes  1428    1097     336         22   \n",
       "Agnes Scott College              Yes   417     349     137         60   \n",
       "Alaska Pacific University        Yes   193     146      55         16   \n",
       "\n",
       "                              Top25perc  F.Undergrad  P.Undergrad  Outstate  \\\n",
       "College                                                                       \n",
       "Abilene Christian University         52         2885          537      7440   \n",
       "Adelphi University                   29         2683         1227     12280   \n",
       "Adrian College                       50         1036           99     11250   \n",
       "Agnes Scott College                  89          510           63     12960   \n",
       "Alaska Pacific University            44          249          869      7560   \n",
       "\n",
       "                              Room.Board  Books  Personal  PhD  Terminal  \\\n",
       "College                                                                    \n",
       "Abilene Christian University        3300    450      2200   70        78   \n",
       "Adelphi University                  6450    750      1500   29        30   \n",
       "Adrian College                      3750    400      1165   53        66   \n",
       "Agnes Scott College                 5450    450       875   92        97   \n",
       "Alaska Pacific University           4120    800      1500   76        72   \n",
       "\n",
       "                              SFRatio  perc.alumni  Expend  GradRate  \n",
       "College                                                               \n",
       "Abilene Christian University     18.1           12    7041        60  \n",
       "Adelphi University               12.2           16   10527        56  \n",
       "Adrian College                   12.9           30    8735        54  \n",
       "Agnes Scott College               7.7           37   19016        59  \n",
       "Alaska Pacific University        11.9            2   10922        15  "
      ]
     },
     "execution_count": 15,
     "metadata": {},
     "output_type": "execute_result"
    }
   ],
   "source": [
    "college_df = pd.read_csv('College.csv')\n",
    "college_df = college_df.rename({'Unnamed: 0': 'College'}, axis=1)\n",
    "college_df = college_df.set_index('College')\n",
    "#Renaming for later, smf was getting angry by the periods in the coulmn names\n",
    "college_df = college_df.rename(columns={'S.F.Ratio': 'SFRatio', 'Grad.Rate': 'GradRate'})\n",
    "college_df.head()"
   ]
  },
  {
   "cell_type": "markdown",
   "metadata": {},
   "source": [
    "## Out of state tuition and Private schools\n",
    "\n",
    "Remember in the homework how we made boxplots of the out of state tuition for private and public schools? We're going to now use linear regression to see if there is statistical evidence of a difference in the out of state tuition between private and public schools.\n",
    "\n",
    "Let's first ask ourselves some questions:\n",
    "\n",
    "&#9989; **<font color=red>Q:</font>**\n",
    "- What is the response?\n",
    "- What is the predictor?\n",
    "- What is the model?\n",
    "- What is the null hypothesis?"
   ]
  },
  {
   "cell_type": "code",
   "execution_count": 16,
   "metadata": {},
   "outputs": [
    {
     "data": {
      "text/plain": [
       "<Axes: title={'center': 'Outstate'}, xlabel='Private'>"
      ]
     },
     "execution_count": 16,
     "metadata": {},
     "output_type": "execute_result"
    },
    {
     "data": {
      "image/png": "[encoded data removed]",
      "text/plain": [
       "<Figure size 640x480 with 1 Axes>"
      ]
     },
     "metadata": {},
     "output_type": "display_data"
    }
   ],
   "source": [
    "#for memory purposes, here's the boxplot\n",
    "college_df.boxplot('Outstate', by='Private')"
   ]
  },
  {
   "cell_type": "markdown",
   "metadata": {},
   "source": [
    "&#9989; **<font color=red>Do now:</font>** Use `smf.ols` to fit the model and print out the summary. Remember we learned a shortcut for this in the last lecture notebook."
   ]
  },
  {
   "cell_type": "code",
   "execution_count": 17,
   "metadata": {},
   "outputs": [
    {
     "name": "stdout",
     "output_type": "stream",
     "text": [
      "                            OLS Regression Results                            \n",
      "==============================================================================\n",
      "Dep. Variable:               Outstate   R-squared:                       0.305\n",
      "Model:                            OLS   Adj. R-squared:                  0.305\n",
      "Method:                 Least Squares   F-statistic:                     340.8\n",
      "Date:                Mon, 12 May 2025   Prob (F-statistic):           2.40e-63\n",
      "Time:                        14:47:46   Log-Likelihood:                -7409.4\n",
      "No. Observations:                 777   AIC:                         1.482e+04\n",
      "Df Residuals:                     775   BIC:                         1.483e+04\n",
      "Df Model:                           1                                         \n",
      "Covariance Type:            nonrobust                                         \n",
      "==================================================================================\n",
      "                     coef    std err          t      P>|t|      [0.025      0.975]\n",
      "----------------------------------------------------------------------------------\n",
      "Intercept       6813.4104    230.422     29.569      0.000    6361.085    7265.736\n",
      "Private[T.Yes]  4988.2834    270.216     18.460      0.000    4457.842    5518.725\n",
      "==============================================================================\n",
      "Omnibus:                       24.899   Durbin-Watson:                   1.814\n",
      "Prob(Omnibus):                  0.000   Jarque-Bera (JB):               26.708\n",
      "Skew:                           0.454   Prob(JB):                     1.59e-06\n",
      "Kurtosis:                       3.017   Cond. No.                         3.60\n",
      "==============================================================================\n",
      "\n",
      "Notes:\n",
      "[1] Standard Errors assume that the covariance matrix of the errors is correctly specified.\n"
     ]
    }
   ],
   "source": [
    "model = smf.ols('Outstate ~ Private', data=college_df).fit()\n",
    "\n",
    "print(model.summary())"
   ]
  },
  {
   "cell_type": "markdown",
   "metadata": {},
   "source": [
    "Now that we have some results, let's interpret them.\n",
    "\n",
    "&#9989; **<font color=red>Q:</font>**\n",
    "- What is the equation of the line?\n",
    "- Do we have evidence to reject the null hypothesis? Why or why not?\n",
    "- Based on your boxplot from the homework, are you surprised by the results?\n",
    "- What are the confidence intervals for $\\beta_0$ and $\\beta_1$?\n"
   ]
  },
  {
   "cell_type": "markdown",
   "metadata": {},
   "source": [
    "Equation: 𝑌 = 6813.41 + 4988.28 × Private\n",
    "\n",
    "Reject null? Yes, p-value is 0.000\n",
    "\n",
    "Surprised? No, matches boxplot showing higher tuition for private\n",
    "\n",
    "Confidence intervals:\n",
    "- $\\beta_0$: [6361.09, 7265.74]\n",
    "- $\\beta_1$: [4457.84, 5518.73]"
   ]
  },
  {
   "cell_type": "markdown",
   "metadata": {},
   "source": [
    "Let's now predict values for out of state tuition for private and non-private schools. We can still use the `smf` package to do this for us. Here's some code to run it below. As you can see, it likes a dictionary format."
   ]
  },
  {
   "cell_type": "code",
   "execution_count": 19,
   "metadata": {},
   "outputs": [
    {
     "data": {
      "text/plain": [
       "0    11801.693805\n",
       "1     6813.410377\n",
       "dtype: float64"
      ]
     },
     "execution_count": 19,
     "metadata": {},
     "output_type": "execute_result"
    }
   ],
   "source": [
    "model.predict({'Private': ['Yes', 'No']})"
   ]
  },
  {
   "cell_type": "markdown",
   "metadata": {},
   "source": [
    "&#9989; **<font color=red>Q:</font>** Do these values make sense? Why or why not?"
   ]
  },
  {
   "cell_type": "markdown",
   "metadata": {},
   "source": [
    "Yes, these values make sense."
   ]
  },
  {
   "cell_type": "markdown",
   "metadata": {},
   "source": [
    "## Out of state tuition and more variables\n",
    "\n",
    "&#9989; **<font color=red>Q:</font>** What are the coefficients for this model:\n",
    "$y = \\beta_0 + \\beta_1 X_{private} + \\beta_2 X_{Top10perc} + \\beta_3 X_{SFRatio} + \\beta_4 X_{GradRate}$?\n"
   ]
  },
  {
   "cell_type": "code",
   "execution_count": 20,
   "metadata": {},
   "outputs": [
    {
     "data": {
      "text/plain": [
       "Intercept         5621.112493\n",
       "Private[T.Yes]    2888.629388\n",
       "Top10perc           69.892798\n",
       "SFRatio           -213.215064\n",
       "GradRate            58.002950\n",
       "dtype: float64"
      ]
     },
     "execution_count": 20,
     "metadata": {},
     "output_type": "execute_result"
    }
   ],
   "source": [
    "model2 = smf.ols('Outstate ~ Private + Top10perc + SFRatio + GradRate', data=college_df).fit()\n",
    "model2.params"
   ]
  },
  {
   "cell_type": "markdown",
   "metadata": {},
   "source": [
    "&#9989; **<font color=red>Q:</font>** Does the coefficient for $X_{private}$ change when we add more predictors variables, compared to when it was the only predictor? Why or why not?"
   ]
  },
  {
   "cell_type": "markdown",
   "metadata": {},
   "source": [
    "Yes, the coefficient for X_private decreased from 4988.28 to 2888.63.\n",
    "This happens because adding more predictors explains some of the variation that was originally attributed to Private."
   ]
  },
  {
   "cell_type": "markdown",
   "metadata": {},
   "source": [
    "&#9989; **<font color=red>Q:</font>** Are we confident that at least one of the predictors is associated with the response? Why or why not?"
   ]
  },
  {
   "cell_type": "markdown",
   "metadata": {},
   "source": [
    "Yes, because the model’s overall p-value (from the F-statistic) is very small, showing at least one predictor is significantly associated with the response."
   ]
  },
  {
   "cell_type": "markdown",
   "metadata": {},
   "source": [
    "&#9989; **<font color=red>Q:</font>** What is our prediction for out of state tuition at a private school with 20% of the students from the top 10% of their high school class, a student faculty ratio of 15, and a graduation rate of 75%?"
   ]
  },
  {
   "cell_type": "code",
   "execution_count": 21,
   "metadata": {},
   "outputs": [
    {
     "data": {
      "text/plain": [
       "0    11059.593141\n",
       "dtype: float64"
      ]
     },
     "execution_count": 21,
     "metadata": {},
     "output_type": "execute_result"
    }
   ],
   "source": [
    "model2.predict({\n",
    "    'Private': ['Yes'],\n",
    "    'Top10perc': [20],\n",
    "    'SFRatio': [15],\n",
    "    'GradRate': [75]\n",
    "})"
   ]
  },
  {
   "cell_type": "markdown",
   "metadata": {},
   "source": [
    "The predicted out-of-state tuition is $11,059.59."
   ]
  },
  {
   "cell_type": "markdown",
   "metadata": {},
   "source": [
    "&#9989; **<font color=red>Q:</font>** Find the RSS and Rsquared values for estimating out of state tuition using just the private variable and then using private, top10perc, SFRatio, and GradRate. Use `.ssr` and `.rsquared` respectively after fitting the model. What do you notice?"
   ]
  },
  {
   "cell_type": "code",
   "execution_count": 22,
   "metadata": {},
   "outputs": [
    {
     "name": "stdout",
     "output_type": "stream",
     "text": [
      "Model 1 (Private only):\n",
      "RSS: 8723412827.325489\n",
      "R-squared: 0.30542190924867874\n",
      "\n",
      "Model 2 (Multiple predictors):\n",
      "RSS: 4934736454.702036\n",
      "R-squared: 0.6070849915148703\n"
     ]
    }
   ],
   "source": [
    "model1 = smf.ols('Outstate ~ Private', data=college_df).fit()\n",
    "print(\"Model 1 (Private only):\")\n",
    "print(\"RSS:\", model1.ssr)\n",
    "print(\"R-squared:\", model1.rsquared)\n",
    "\n",
    "model2 = smf.ols('Outstate ~ Private + Top10perc + SFRatio + GradRate', data=college_df).fit()\n",
    "print(\"\\nModel 2 (Multiple predictors):\")\n",
    "print(\"RSS:\", model2.ssr)\n",
    "print(\"R-squared:\", model2.rsquared)"
   ]
  },
  {
   "cell_type": "markdown",
   "metadata": {},
   "source": [
    "The RSS decreased and R² increased, so the model with more predictors fits the data much better."
   ]
  },
  {
   "cell_type": "markdown",
   "metadata": {},
   "source": [
    "## Interaction Terms\n",
    "\n",
    "What happens if we add an interaction term between Top10perc and GradRate? Fit the model and look at the RSS and Rsquared results."
   ]
  },
  {
   "cell_type": "markdown",
   "metadata": {},
   "source": [
    "&#9989; **<font color=red>Do now:</font>** Add a new column to the college dataframe that is the product of SFRatio and GradRate. Then fit two models: one with predictor variables SFRatio and GradRate, and one with predictor variables SFRatio, GradRate AND your new column.\n",
    "\n",
    "&#9989; **<font color=red>Q:</font>** What are the RSS and Rsquared values for the two models? What do you notice?"
   ]
  },
  {
   "cell_type": "code",
   "execution_count": 24,
   "metadata": {},
   "outputs": [
    {
     "name": "stdout",
     "output_type": "stream",
     "text": [
      "Without Interaction:\n",
      "RSS: 6462614755.039249\n",
      "R-squared: 0.4854318250586912\n",
      "\n",
      "With Interaction:\n",
      "RSS: 6192706105.517205\n",
      "R-squared: 0.5069225693548964\n"
     ]
    }
   ],
   "source": [
    "college_df['SFRatio_GradRate'] = college_df['SFRatio'] * college_df['GradRate']\n",
    "\n",
    "model_no_interaction = smf.ols('Outstate ~ SFRatio + GradRate', data=college_df).fit()\n",
    "\n",
    "model_interaction = smf.ols('Outstate ~ SFRatio + GradRate + SFRatio_GradRate', data=college_df).fit()\n",
    "\n",
    "print(\"Without Interaction:\")\n",
    "print(\"RSS:\", model_no_interaction.ssr)\n",
    "print(\"R-squared:\", model_no_interaction.rsquared)\n",
    "\n",
    "print(\"\\nWith Interaction:\")\n",
    "print(\"RSS:\", model_interaction.ssr)\n",
    "print(\"R-squared:\", model_interaction.rsquared)"
   ]
  },
  {
   "cell_type": "markdown",
   "metadata": {},
   "source": [
    "Adding the interaction term slightly lowered the RSS and increased R², meaning it improved the model’s fit."
   ]
  },
  {
   "cell_type": "code",
   "execution_count": 25,
   "metadata": {},
   "outputs": [
    {
     "name": "stdout",
     "output_type": "stream",
     "text": [
      "8723412827.325489\n",
      "0.30542190924867874\n"
     ]
    }
   ],
   "source": [
    "print(model.ssr)\n",
    "print(model.rsquared)"
   ]
  },
  {
   "cell_type": "markdown",
   "metadata": {},
   "source": [
    "Looks like the interaction term made a difference! But what's going on with the SFRatio p value? \n",
    "\n",
    "&#9989; **<font color=red>Do now:</font>** Check out the summary table if you haven't already."
   ]
  },
  {
   "cell_type": "code",
   "execution_count": 26,
   "metadata": {},
   "outputs": [
    {
     "name": "stdout",
     "output_type": "stream",
     "text": [
      "                            OLS Regression Results                            \n",
      "==============================================================================\n",
      "Dep. Variable:               Outstate   R-squared:                       0.507\n",
      "Model:                            OLS   Adj. R-squared:                  0.505\n",
      "Method:                 Least Squares   F-statistic:                     264.9\n",
      "Date:                Mon, 12 May 2025   Prob (F-statistic):          3.24e-118\n",
      "Time:                        15:13:35   Log-Likelihood:                -7276.2\n",
      "No. Observations:                 777   AIC:                         1.456e+04\n",
      "Df Residuals:                     773   BIC:                         1.458e+04\n",
      "Df Model:                           3                                         \n",
      "Covariance Type:            nonrobust                                         \n",
      "====================================================================================\n",
      "                       coef    std err          t      P>|t|      [0.025      0.975]\n",
      "------------------------------------------------------------------------------------\n",
      "Intercept         2523.3861   1386.939      1.819      0.069    -199.228    5246.000\n",
      "SFRatio             84.3495     91.945      0.917      0.359     -96.142     264.841\n",
      "GradRate           214.3067     20.044     10.692      0.000     174.960     253.653\n",
      "SFRatio_GradRate    -8.0978      1.395     -5.804      0.000     -10.836      -5.359\n",
      "==============================================================================\n",
      "Omnibus:                        8.694   Durbin-Watson:                   1.945\n",
      "Prob(Omnibus):                  0.013   Jarque-Bera (JB):                8.740\n",
      "Skew:                           0.229   Prob(JB):                       0.0127\n",
      "Kurtosis:                       3.246   Cond. No.                     1.30e+04\n",
      "==============================================================================\n",
      "\n",
      "Notes:\n",
      "[1] Standard Errors assume that the covariance matrix of the errors is correctly specified.\n",
      "[2] The condition number is large, 1.3e+04. This might indicate that there are\n",
      "strong multicollinearity or other numerical problems.\n"
     ]
    }
   ],
   "source": [
    "print(model_interaction.summary())"
   ]
  },
  {
   "cell_type": "markdown",
   "metadata": {},
   "source": [
    "The p-value for SFRatio is high (0.359), meaning it's not statistically significant. The interaction term likely captures its effect, causing multicollinearity and reducing its individual impact."
   ]
  },
  {
   "cell_type": "markdown",
   "metadata": {},
   "source": [
    "&#9989; **<font color=red>Q:</font>** Does this mean we should throw out the SFRatio variable? What principle does this point to?"
   ]
  },
  {
   "cell_type": "markdown",
   "metadata": {},
   "source": [
    "No, we shouldn’t automatically throw it out. This points to the principle of hierarchical modeling—if we keep an interaction term, we usually keep the main effects too, even if they're not significant."
   ]
  },
  {
   "cell_type": "markdown",
   "metadata": {},
   "source": [
    "## Keep exploring!\n",
    "Use any remaining time to build more models with some of the other columns we haven't used yet. Keep track of what you try and write a brief summary of what you found."
   ]
  },
  {
   "cell_type": "markdown",
   "metadata": {},
   "source": [
    "\n",
    "-----\n",
    "### Congratulations, we're done!"
   ]
  },
  {
   "cell_type": "markdown",
   "metadata": {},
   "source": [
    "Written by Rachel Roca, Michigan State University\n",
    "<a rel=\"license\" href=\"http://creativecommons.org/licenses/by-nc/4.0/\"><img alt=\"Creative Commons License\" style=\"border-width:0\" src=\"https://i.creativecommons.org/l/by-nc/4.0/88x31.png\" /></a><br />This work is licensed under a <a rel=\"license\" href=\"http://creativecommons.org/licenses/by-nc/4.0/\">Creative Commons Attribution-NonCommercial 4.0 International License</a>."
   ]
  },
  {
   "cell_type": "markdown",
   "metadata": {},
   "source": []
  }
 ],
 "metadata": {
  "kernelspec": {
   "display_name": "Python 3.11 (default)",
   "language": "python",
   "name": "python3"
  },
  "language_info": {
   "codemirror_mode": {
    "name": "ipython",
    "version": 3
   },
   "file_extension": ".py",
   "mimetype": "text/x-python",
   "name": "python",
   "nbconvert_exporter": "python",
   "pygments_lexer": "ipython3",
   "version": "3.11.12"
  }
 },
 "nbformat": 4,
 "nbformat_minor": 4
}
