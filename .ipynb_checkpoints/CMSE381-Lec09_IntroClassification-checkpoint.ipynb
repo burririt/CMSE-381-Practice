{
 "cells": [
  {
   "cell_type": "markdown",
   "id": "4dfd68f5",
   "metadata": {},
   "source": [
    "# Lab: Intro to Classification\n",
    "## CMSE 381 - Fall 2023\n",
    "## Sep 18, 2023\n",
    "\n"
   ]
  },
  {
   "cell_type": "code",
   "execution_count": 3,
   "id": "3f2bdd6f",
   "metadata": {},
   "outputs": [],
   "source": [
    "# Standard imports\n",
    "import numpy as np \n",
    "import matplotlib.pyplot as plt\n",
    "import pandas as pd \n",
    "%matplotlib inline\n",
    "import seaborn as sns"
   ]
  },
  {
   "cell_type": "markdown",
   "id": "08b964f8",
   "metadata": {},
   "source": [
    "## Reading in the chicken or egg data"
   ]
  },
  {
   "cell_type": "markdown",
   "id": "b45a53af",
   "metadata": {},
   "source": [
    "In this lab, we are going to try out the KNN classification described in class. First, we're going to load up our data. This data is 100% made up by Dr. Munch. Based on two inputs $x_1$ and $x_2$, we get to predict whether we have a `chicken` or an `egg`. "
   ]
  },
  {
   "cell_type": "code",
   "execution_count": 4,
   "id": "04ceb8ac",
   "metadata": {},
   "outputs": [
    {
     "data": {
      "text/html": [
       "<div>\n",
       "<style scoped>\n",
       "    .dataframe tbody tr th:only-of-type {\n",
       "        vertical-align: middle;\n",
       "    }\n",
       "\n",
       "    .dataframe tbody tr th {\n",
       "        vertical-align: top;\n",
       "    }\n",
       "\n",
       "    .dataframe thead th {\n",
       "        text-align: right;\n",
       "    }\n",
       "</style>\n",
       "<table border=\"1\" class=\"dataframe\">\n",
       "  <thead>\n",
       "    <tr style=\"text-align: right;\">\n",
       "      <th></th>\n",
       "      <th>x1</th>\n",
       "      <th>x2</th>\n",
       "      <th>Label</th>\n",
       "    </tr>\n",
       "  </thead>\n",
       "  <tbody>\n",
       "    <tr>\n",
       "      <th>0</th>\n",
       "      <td>-3.156478</td>\n",
       "      <td>-1.110356</td>\n",
       "      <td>chicken</td>\n",
       "    </tr>\n",
       "    <tr>\n",
       "      <th>1</th>\n",
       "      <td>-3.547711</td>\n",
       "      <td>0.438432</td>\n",
       "      <td>chicken</td>\n",
       "    </tr>\n",
       "    <tr>\n",
       "      <th>2</th>\n",
       "      <td>-6.243875</td>\n",
       "      <td>5.288547</td>\n",
       "      <td>chicken</td>\n",
       "    </tr>\n",
       "    <tr>\n",
       "      <th>3</th>\n",
       "      <td>-5.398701</td>\n",
       "      <td>4.044941</td>\n",
       "      <td>chicken</td>\n",
       "    </tr>\n",
       "    <tr>\n",
       "      <th>4</th>\n",
       "      <td>3.556318</td>\n",
       "      <td>4.750270</td>\n",
       "      <td>chicken</td>\n",
       "    </tr>\n",
       "    <tr>\n",
       "      <th>5</th>\n",
       "      <td>3.208898</td>\n",
       "      <td>-1.319343</td>\n",
       "      <td>chicken</td>\n",
       "    </tr>\n",
       "    <tr>\n",
       "      <th>6</th>\n",
       "      <td>6.486065</td>\n",
       "      <td>-3.953278</td>\n",
       "      <td>egg</td>\n",
       "    </tr>\n",
       "    <tr>\n",
       "      <th>7</th>\n",
       "      <td>-1.126397</td>\n",
       "      <td>3.032450</td>\n",
       "      <td>chicken</td>\n",
       "    </tr>\n",
       "    <tr>\n",
       "      <th>8</th>\n",
       "      <td>1.820567</td>\n",
       "      <td>-6.872025</td>\n",
       "      <td>egg</td>\n",
       "    </tr>\n",
       "    <tr>\n",
       "      <th>9</th>\n",
       "      <td>-2.601184</td>\n",
       "      <td>5.737621</td>\n",
       "      <td>chicken</td>\n",
       "    </tr>\n",
       "  </tbody>\n",
       "</table>\n",
       "</div>"
      ],
      "text/plain": [
       "         x1        x2    Label\n",
       "0 -3.156478 -1.110356  chicken\n",
       "1 -3.547711  0.438432  chicken\n",
       "2 -6.243875  5.288547  chicken\n",
       "3 -5.398701  4.044941  chicken\n",
       "4  3.556318  4.750270  chicken\n",
       "5  3.208898 -1.319343  chicken\n",
       "6  6.486065 -3.953278      egg\n",
       "7 -1.126397  3.032450  chicken\n",
       "8  1.820567 -6.872025      egg\n",
       "9 -2.601184  5.737621  chicken"
      ]
     },
     "execution_count": 4,
     "metadata": {},
     "output_type": "execute_result"
    }
   ],
   "source": [
    "Chick_df = pd.read_csv('ChickenEgg.csv')\n",
    "Chick_df.head(10)"
   ]
  },
  {
   "attachments": {},
   "cell_type": "markdown",
   "id": "9763db94",
   "metadata": {},
   "source": [
    "The first step is always to do some data exploration. \n",
    "\n",
    "&#9989; **<font color=red>Do this:</font>** Draw a scatter plot of your data with the relevant labels. \n",
    "\n",
    "*Hint: There are many ways to do this, but `sns.scatterplot` often works the fastest, and if you set `hue` and/or `style` to the `Label` column, you should get the labels drawn as color and/or symbol.*"
   ]
  },
  {
   "cell_type": "code",
   "execution_count": 5,
   "id": "8e5177b5",
   "metadata": {},
   "outputs": [
    {
     "data": {
      "image/png": "[encoded data removed]",
      "text/plain": [
       "<Figure size 640x480 with 1 Axes>"
      ]
     },
     "metadata": {},
     "output_type": "display_data"
    }
   ],
   "source": [
    "sns.scatterplot(data=Chick_df, x='x1', y='x2', hue='Label', style='Label')\n",
    "plt.title('Chicken vs Egg Classification Data')\n",
    "plt.xlabel('x1')\n",
    "plt.ylabel('x2')\n",
    "plt.show()"
   ]
  },
  {
   "cell_type": "markdown",
   "id": "6115fff9",
   "metadata": {},
   "source": [
    "&#9989; **<font color=red>Do this:</font>** Based on your scatter plot, what you expect a KNN classifer with $k=1$ to predict for a data point at $(-4,4)$? What about at $(6,0)$?"
   ]
  },
  {
   "cell_type": "markdown",
   "id": "3ecc2723",
   "metadata": {},
   "source": [
    "A KNN classifier with k = 1 would likely predict chicken for the point (−4,4) since it's in the region with many blue dots. For the point (6,0), it would likely predict egg because it's near several orange x's."
   ]
  },
  {
   "cell_type": "markdown",
   "id": "b0561116",
   "metadata": {},
   "source": [
    "## KNN with `sklearn`"
   ]
  },
  {
   "cell_type": "markdown",
   "id": "1e25e2d9",
   "metadata": {},
   "source": [
    "Ok, but let's be honest, no one is going to do this by hand everytime. Let's make `sklearn` do it for us!"
   ]
  },
  {
   "cell_type": "code",
   "execution_count": 6,
   "id": "5d8c3d65",
   "metadata": {},
   "outputs": [],
   "source": [
    "from sklearn.neighbors import KNeighborsClassifier"
   ]
  },
  {
   "cell_type": "markdown",
   "id": "c9ea1279",
   "metadata": {},
   "source": [
    "First, we're going to split our data into two pieces. The $X$ input variables, and the $Y$ output variable. "
   ]
  },
  {
   "cell_type": "code",
   "execution_count": 7,
   "id": "8bcc24b3",
   "metadata": {},
   "outputs": [],
   "source": [
    "X = Chick_df.drop('Label', axis =1)\n",
    "y = Chick_df['Label']"
   ]
  },
  {
   "cell_type": "code",
   "execution_count": 8,
   "id": "3427c7b9",
   "metadata": {},
   "outputs": [
    {
     "data": {
      "text/html": [
       "<div>\n",
       "<style scoped>\n",
       "    .dataframe tbody tr th:only-of-type {\n",
       "        vertical-align: middle;\n",
       "    }\n",
       "\n",
       "    .dataframe tbody tr th {\n",
       "        vertical-align: top;\n",
       "    }\n",
       "\n",
       "    .dataframe thead th {\n",
       "        text-align: right;\n",
       "    }\n",
       "</style>\n",
       "<table border=\"1\" class=\"dataframe\">\n",
       "  <thead>\n",
       "    <tr style=\"text-align: right;\">\n",
       "      <th></th>\n",
       "      <th>x1</th>\n",
       "      <th>x2</th>\n",
       "    </tr>\n",
       "  </thead>\n",
       "  <tbody>\n",
       "    <tr>\n",
       "      <th>0</th>\n",
       "      <td>-3.156478</td>\n",
       "      <td>-1.110356</td>\n",
       "    </tr>\n",
       "    <tr>\n",
       "      <th>1</th>\n",
       "      <td>-3.547711</td>\n",
       "      <td>0.438432</td>\n",
       "    </tr>\n",
       "    <tr>\n",
       "      <th>2</th>\n",
       "      <td>-6.243875</td>\n",
       "      <td>5.288547</td>\n",
       "    </tr>\n",
       "    <tr>\n",
       "      <th>3</th>\n",
       "      <td>-5.398701</td>\n",
       "      <td>4.044941</td>\n",
       "    </tr>\n",
       "    <tr>\n",
       "      <th>4</th>\n",
       "      <td>3.556318</td>\n",
       "      <td>4.750270</td>\n",
       "    </tr>\n",
       "  </tbody>\n",
       "</table>\n",
       "</div>"
      ],
      "text/plain": [
       "         x1        x2\n",
       "0 -3.156478 -1.110356\n",
       "1 -3.547711  0.438432\n",
       "2 -6.243875  5.288547\n",
       "3 -5.398701  4.044941\n",
       "4  3.556318  4.750270"
      ]
     },
     "execution_count": 8,
     "metadata": {},
     "output_type": "execute_result"
    }
   ],
   "source": [
    "X.head()"
   ]
  },
  {
   "cell_type": "code",
   "execution_count": 9,
   "id": "889b0f3b",
   "metadata": {},
   "outputs": [
    {
     "data": {
      "text/plain": [
       "0    chicken\n",
       "1    chicken\n",
       "2    chicken\n",
       "3    chicken\n",
       "4    chicken\n",
       "Name: Label, dtype: object"
      ]
     },
     "execution_count": 9,
     "metadata": {},
     "output_type": "execute_result"
    }
   ],
   "source": [
    "y.head()"
   ]
  },
  {
   "cell_type": "markdown",
   "id": "85ce1677",
   "metadata": {},
   "source": [
    "Then the following code trains our classifier. "
   ]
  },
  {
   "cell_type": "code",
   "execution_count": 12,
   "id": "4c56001d",
   "metadata": {},
   "outputs": [
    {
     "data": {
      "text/html": [
       "<style>#sk-container-id-2 {\n",
       "  /* Definition of color scheme common for light and dark mode */\n",
       "  --sklearn-color-text: #000;\n",
       "  --sklearn-color-text-muted: #666;\n",
       "  --sklearn-color-line: gray;\n",
       "  /* Definition of color scheme for unfitted estimators */\n",
       "  --sklearn-color-unfitted-level-0: #fff5e6;\n",
       "  --sklearn-color-unfitted-level-1: #f6e4d2;\n",
       "  --sklearn-color-unfitted-level-2: #ffe0b3;\n",
       "  --sklearn-color-unfitted-level-3: chocolate;\n",
       "  /* Definition of color scheme for fitted estimators */\n",
       "  --sklearn-color-fitted-level-0: #f0f8ff;\n",
       "  --sklearn-color-fitted-level-1: #d4ebff;\n",
       "  --sklearn-color-fitted-level-2: #b3dbfd;\n",
       "  --sklearn-color-fitted-level-3: cornflowerblue;\n",
       "\n",
       "  /* Specific color for light theme */\n",
       "  --sklearn-color-text-on-default-background: var(--sg-text-color, var(--theme-code-foreground, var(--jp-content-font-color1, black)));\n",
       "  --sklearn-color-background: var(--sg-background-color, var(--theme-background, var(--jp-layout-color0, white)));\n",
       "  --sklearn-color-border-box: var(--sg-text-color, var(--theme-code-foreground, var(--jp-content-font-color1, black)));\n",
       "  --sklearn-color-icon: #696969;\n",
       "\n",
       "  @media (prefers-color-scheme: dark) {\n",
       "    /* Redefinition of color scheme for dark theme */\n",
       "    --sklearn-color-text-on-default-background: var(--sg-text-color, var(--theme-code-foreground, var(--jp-content-font-color1, white)));\n",
       "    --sklearn-color-background: var(--sg-background-color, var(--theme-background, var(--jp-layout-color0, #111)));\n",
       "    --sklearn-color-border-box: var(--sg-text-color, var(--theme-code-foreground, var(--jp-content-font-color1, white)));\n",
       "    --sklearn-color-icon: #878787;\n",
       "  }\n",
       "}\n",
       "\n",
       "#sk-container-id-2 {\n",
       "  color: var(--sklearn-color-text);\n",
       "}\n",
       "\n",
       "#sk-container-id-2 pre {\n",
       "  padding: 0;\n",
       "}\n",
       "\n",
       "#sk-container-id-2 input.sk-hidden--visually {\n",
       "  border: 0;\n",
       "  clip: rect(1px 1px 1px 1px);\n",
       "  clip: rect(1px, 1px, 1px, 1px);\n",
       "  height: 1px;\n",
       "  margin: -1px;\n",
       "  overflow: hidden;\n",
       "  padding: 0;\n",
       "  position: absolute;\n",
       "  width: 1px;\n",
       "}\n",
       "\n",
       "#sk-container-id-2 div.sk-dashed-wrapped {\n",
       "  border: 1px dashed var(--sklearn-color-line);\n",
       "  margin: 0 0.4em 0.5em 0.4em;\n",
       "  box-sizing: border-box;\n",
       "  padding-bottom: 0.4em;\n",
       "  background-color: var(--sklearn-color-background);\n",
       "}\n",
       "\n",
       "#sk-container-id-2 div.sk-container {\n",
       "  /* jupyter's `normalize.less` sets `[hidden] { display: none; }`\n",
       "     but bootstrap.min.css set `[hidden] { display: none !important; }`\n",
       "     so we also need the `!important` here to be able to override the\n",
       "     default hidden behavior on the sphinx rendered scikit-learn.org.\n",
       "     See: https://github.com/scikit-learn/scikit-learn/issues/21755 */\n",
       "  display: inline-block !important;\n",
       "  position: relative;\n",
       "}\n",
       "\n",
       "#sk-container-id-2 div.sk-text-repr-fallback {\n",
       "  display: none;\n",
       "}\n",
       "\n",
       "div.sk-parallel-item,\n",
       "div.sk-serial,\n",
       "div.sk-item {\n",
       "  /* draw centered vertical line to link estimators */\n",
       "  background-image: linear-gradient(var(--sklearn-color-text-on-default-background), var(--sklearn-color-text-on-default-background));\n",
       "  background-size: 2px 100%;\n",
       "  background-repeat: no-repeat;\n",
       "  background-position: center center;\n",
       "}\n",
       "\n",
       "/* Parallel-specific style estimator block */\n",
       "\n",
       "#sk-container-id-2 div.sk-parallel-item::after {\n",
       "  content: \"\";\n",
       "  width: 100%;\n",
       "  border-bottom: 2px solid var(--sklearn-color-text-on-default-background);\n",
       "  flex-grow: 1;\n",
       "}\n",
       "\n",
       "#sk-container-id-2 div.sk-parallel {\n",
       "  display: flex;\n",
       "  align-items: stretch;\n",
       "  justify-content: center;\n",
       "  background-color: var(--sklearn-color-background);\n",
       "  position: relative;\n",
       "}\n",
       "\n",
       "#sk-container-id-2 div.sk-parallel-item {\n",
       "  display: flex;\n",
       "  flex-direction: column;\n",
       "}\n",
       "\n",
       "#sk-container-id-2 div.sk-parallel-item:first-child::after {\n",
       "  align-self: flex-end;\n",
       "  width: 50%;\n",
       "}\n",
       "\n",
       "#sk-container-id-2 div.sk-parallel-item:last-child::after {\n",
       "  align-self: flex-start;\n",
       "  width: 50%;\n",
       "}\n",
       "\n",
       "#sk-container-id-2 div.sk-parallel-item:only-child::after {\n",
       "  width: 0;\n",
       "}\n",
       "\n",
       "/* Serial-specific style estimator block */\n",
       "\n",
       "#sk-container-id-2 div.sk-serial {\n",
       "  display: flex;\n",
       "  flex-direction: column;\n",
       "  align-items: center;\n",
       "  background-color: var(--sklearn-color-background);\n",
       "  padding-right: 1em;\n",
       "  padding-left: 1em;\n",
       "}\n",
       "\n",
       "\n",
       "/* Toggleable style: style used for estimator/Pipeline/ColumnTransformer box that is\n",
       "clickable and can be expanded/collapsed.\n",
       "- Pipeline and ColumnTransformer use this feature and define the default style\n",
       "- Estimators will overwrite some part of the style using the `sk-estimator` class\n",
       "*/\n",
       "\n",
       "/* Pipeline and ColumnTransformer style (default) */\n",
       "\n",
       "#sk-container-id-2 div.sk-toggleable {\n",
       "  /* Default theme specific background. It is overwritten whether we have a\n",
       "  specific estimator or a Pipeline/ColumnTransformer */\n",
       "  background-color: var(--sklearn-color-background);\n",
       "}\n",
       "\n",
       "/* Toggleable label */\n",
       "#sk-container-id-2 label.sk-toggleable__label {\n",
       "  cursor: pointer;\n",
       "  display: flex;\n",
       "  width: 100%;\n",
       "  margin-bottom: 0;\n",
       "  padding: 0.5em;\n",
       "  box-sizing: border-box;\n",
       "  text-align: center;\n",
       "  align-items: start;\n",
       "  justify-content: space-between;\n",
       "  gap: 0.5em;\n",
       "}\n",
       "\n",
       "#sk-container-id-2 label.sk-toggleable__label .caption {\n",
       "  font-size: 0.6rem;\n",
       "  font-weight: lighter;\n",
       "  color: var(--sklearn-color-text-muted);\n",
       "}\n",
       "\n",
       "#sk-container-id-2 label.sk-toggleable__label-arrow:before {\n",
       "  /* Arrow on the left of the label */\n",
       "  content: \"▸\";\n",
       "  float: left;\n",
       "  margin-right: 0.25em;\n",
       "  color: var(--sklearn-color-icon);\n",
       "}\n",
       "\n",
       "#sk-container-id-2 label.sk-toggleable__label-arrow:hover:before {\n",
       "  color: var(--sklearn-color-text);\n",
       "}\n",
       "\n",
       "/* Toggleable content - dropdown */\n",
       "\n",
       "#sk-container-id-2 div.sk-toggleable__content {\n",
       "  max-height: 0;\n",
       "  max-width: 0;\n",
       "  overflow: hidden;\n",
       "  text-align: left;\n",
       "  /* unfitted */\n",
       "  background-color: var(--sklearn-color-unfitted-level-0);\n",
       "}\n",
       "\n",
       "#sk-container-id-2 div.sk-toggleable__content.fitted {\n",
       "  /* fitted */\n",
       "  background-color: var(--sklearn-color-fitted-level-0);\n",
       "}\n",
       "\n",
       "#sk-container-id-2 div.sk-toggleable__content pre {\n",
       "  margin: 0.2em;\n",
       "  border-radius: 0.25em;\n",
       "  color: var(--sklearn-color-text);\n",
       "  /* unfitted */\n",
       "  background-color: var(--sklearn-color-unfitted-level-0);\n",
       "}\n",
       "\n",
       "#sk-container-id-2 div.sk-toggleable__content.fitted pre {\n",
       "  /* unfitted */\n",
       "  background-color: var(--sklearn-color-fitted-level-0);\n",
       "}\n",
       "\n",
       "#sk-container-id-2 input.sk-toggleable__control:checked~div.sk-toggleable__content {\n",
       "  /* Expand drop-down */\n",
       "  max-height: 200px;\n",
       "  max-width: 100%;\n",
       "  overflow: auto;\n",
       "}\n",
       "\n",
       "#sk-container-id-2 input.sk-toggleable__control:checked~label.sk-toggleable__label-arrow:before {\n",
       "  content: \"▾\";\n",
       "}\n",
       "\n",
       "/* Pipeline/ColumnTransformer-specific style */\n",
       "\n",
       "#sk-container-id-2 div.sk-label input.sk-toggleable__control:checked~label.sk-toggleable__label {\n",
       "  color: var(--sklearn-color-text);\n",
       "  background-color: var(--sklearn-color-unfitted-level-2);\n",
       "}\n",
       "\n",
       "#sk-container-id-2 div.sk-label.fitted input.sk-toggleable__control:checked~label.sk-toggleable__label {\n",
       "  background-color: var(--sklearn-color-fitted-level-2);\n",
       "}\n",
       "\n",
       "/* Estimator-specific style */\n",
       "\n",
       "/* Colorize estimator box */\n",
       "#sk-container-id-2 div.sk-estimator input.sk-toggleable__control:checked~label.sk-toggleable__label {\n",
       "  /* unfitted */\n",
       "  background-color: var(--sklearn-color-unfitted-level-2);\n",
       "}\n",
       "\n",
       "#sk-container-id-2 div.sk-estimator.fitted input.sk-toggleable__control:checked~label.sk-toggleable__label {\n",
       "  /* fitted */\n",
       "  background-color: var(--sklearn-color-fitted-level-2);\n",
       "}\n",
       "\n",
       "#sk-container-id-2 div.sk-label label.sk-toggleable__label,\n",
       "#sk-container-id-2 div.sk-label label {\n",
       "  /* The background is the default theme color */\n",
       "  color: var(--sklearn-color-text-on-default-background);\n",
       "}\n",
       "\n",
       "/* On hover, darken the color of the background */\n",
       "#sk-container-id-2 div.sk-label:hover label.sk-toggleable__label {\n",
       "  color: var(--sklearn-color-text);\n",
       "  background-color: var(--sklearn-color-unfitted-level-2);\n",
       "}\n",
       "\n",
       "/* Label box, darken color on hover, fitted */\n",
       "#sk-container-id-2 div.sk-label.fitted:hover label.sk-toggleable__label.fitted {\n",
       "  color: var(--sklearn-color-text);\n",
       "  background-color: var(--sklearn-color-fitted-level-2);\n",
       "}\n",
       "\n",
       "/* Estimator label */\n",
       "\n",
       "#sk-container-id-2 div.sk-label label {\n",
       "  font-family: monospace;\n",
       "  font-weight: bold;\n",
       "  display: inline-block;\n",
       "  line-height: 1.2em;\n",
       "}\n",
       "\n",
       "#sk-container-id-2 div.sk-label-container {\n",
       "  text-align: center;\n",
       "}\n",
       "\n",
       "/* Estimator-specific */\n",
       "#sk-container-id-2 div.sk-estimator {\n",
       "  font-family: monospace;\n",
       "  border: 1px dotted var(--sklearn-color-border-box);\n",
       "  border-radius: 0.25em;\n",
       "  box-sizing: border-box;\n",
       "  margin-bottom: 0.5em;\n",
       "  /* unfitted */\n",
       "  background-color: var(--sklearn-color-unfitted-level-0);\n",
       "}\n",
       "\n",
       "#sk-container-id-2 div.sk-estimator.fitted {\n",
       "  /* fitted */\n",
       "  background-color: var(--sklearn-color-fitted-level-0);\n",
       "}\n",
       "\n",
       "/* on hover */\n",
       "#sk-container-id-2 div.sk-estimator:hover {\n",
       "  /* unfitted */\n",
       "  background-color: var(--sklearn-color-unfitted-level-2);\n",
       "}\n",
       "\n",
       "#sk-container-id-2 div.sk-estimator.fitted:hover {\n",
       "  /* fitted */\n",
       "  background-color: var(--sklearn-color-fitted-level-2);\n",
       "}\n",
       "\n",
       "/* Specification for estimator info (e.g. \"i\" and \"?\") */\n",
       "\n",
       "/* Common style for \"i\" and \"?\" */\n",
       "\n",
       ".sk-estimator-doc-link,\n",
       "a:link.sk-estimator-doc-link,\n",
       "a:visited.sk-estimator-doc-link {\n",
       "  float: right;\n",
       "  font-size: smaller;\n",
       "  line-height: 1em;\n",
       "  font-family: monospace;\n",
       "  background-color: var(--sklearn-color-background);\n",
       "  border-radius: 1em;\n",
       "  height: 1em;\n",
       "  width: 1em;\n",
       "  text-decoration: none !important;\n",
       "  margin-left: 0.5em;\n",
       "  text-align: center;\n",
       "  /* unfitted */\n",
       "  border: var(--sklearn-color-unfitted-level-1) 1pt solid;\n",
       "  color: var(--sklearn-color-unfitted-level-1);\n",
       "}\n",
       "\n",
       ".sk-estimator-doc-link.fitted,\n",
       "a:link.sk-estimator-doc-link.fitted,\n",
       "a:visited.sk-estimator-doc-link.fitted {\n",
       "  /* fitted */\n",
       "  border: var(--sklearn-color-fitted-level-1) 1pt solid;\n",
       "  color: var(--sklearn-color-fitted-level-1);\n",
       "}\n",
       "\n",
       "/* On hover */\n",
       "div.sk-estimator:hover .sk-estimator-doc-link:hover,\n",
       ".sk-estimator-doc-link:hover,\n",
       "div.sk-label-container:hover .sk-estimator-doc-link:hover,\n",
       ".sk-estimator-doc-link:hover {\n",
       "  /* unfitted */\n",
       "  background-color: var(--sklearn-color-unfitted-level-3);\n",
       "  color: var(--sklearn-color-background);\n",
       "  text-decoration: none;\n",
       "}\n",
       "\n",
       "div.sk-estimator.fitted:hover .sk-estimator-doc-link.fitted:hover,\n",
       ".sk-estimator-doc-link.fitted:hover,\n",
       "div.sk-label-container:hover .sk-estimator-doc-link.fitted:hover,\n",
       ".sk-estimator-doc-link.fitted:hover {\n",
       "  /* fitted */\n",
       "  background-color: var(--sklearn-color-fitted-level-3);\n",
       "  color: var(--sklearn-color-background);\n",
       "  text-decoration: none;\n",
       "}\n",
       "\n",
       "/* Span, style for the box shown on hovering the info icon */\n",
       ".sk-estimator-doc-link span {\n",
       "  display: none;\n",
       "  z-index: 9999;\n",
       "  position: relative;\n",
       "  font-weight: normal;\n",
       "  right: .2ex;\n",
       "  padding: .5ex;\n",
       "  margin: .5ex;\n",
       "  width: min-content;\n",
       "  min-width: 20ex;\n",
       "  max-width: 50ex;\n",
       "  color: var(--sklearn-color-text);\n",
       "  box-shadow: 2pt 2pt 4pt #999;\n",
       "  /* unfitted */\n",
       "  background: var(--sklearn-color-unfitted-level-0);\n",
       "  border: .5pt solid var(--sklearn-color-unfitted-level-3);\n",
       "}\n",
       "\n",
       ".sk-estimator-doc-link.fitted span {\n",
       "  /* fitted */\n",
       "  background: var(--sklearn-color-fitted-level-0);\n",
       "  border: var(--sklearn-color-fitted-level-3);\n",
       "}\n",
       "\n",
       ".sk-estimator-doc-link:hover span {\n",
       "  display: block;\n",
       "}\n",
       "\n",
       "/* \"?\"-specific style due to the `<a>` HTML tag */\n",
       "\n",
       "#sk-container-id-2 a.estimator_doc_link {\n",
       "  float: right;\n",
       "  font-size: 1rem;\n",
       "  line-height: 1em;\n",
       "  font-family: monospace;\n",
       "  background-color: var(--sklearn-color-background);\n",
       "  border-radius: 1rem;\n",
       "  height: 1rem;\n",
       "  width: 1rem;\n",
       "  text-decoration: none;\n",
       "  /* unfitted */\n",
       "  color: var(--sklearn-color-unfitted-level-1);\n",
       "  border: var(--sklearn-color-unfitted-level-1) 1pt solid;\n",
       "}\n",
       "\n",
       "#sk-container-id-2 a.estimator_doc_link.fitted {\n",
       "  /* fitted */\n",
       "  border: var(--sklearn-color-fitted-level-1) 1pt solid;\n",
       "  color: var(--sklearn-color-fitted-level-1);\n",
       "}\n",
       "\n",
       "/* On hover */\n",
       "#sk-container-id-2 a.estimator_doc_link:hover {\n",
       "  /* unfitted */\n",
       "  background-color: var(--sklearn-color-unfitted-level-3);\n",
       "  color: var(--sklearn-color-background);\n",
       "  text-decoration: none;\n",
       "}\n",
       "\n",
       "#sk-container-id-2 a.estimator_doc_link.fitted:hover {\n",
       "  /* fitted */\n",
       "  background-color: var(--sklearn-color-fitted-level-3);\n",
       "}\n",
       "</style><div id=\"sk-container-id-2\" class=\"sk-top-container\"><div class=\"sk-text-repr-fallback\"><pre>KNeighborsClassifier(n_neighbors=1)</pre><b>In a Jupyter environment, please rerun this cell to show the HTML representation or trust the notebook. <br />On GitHub, the HTML representation is unable to render, please try loading this page with nbviewer.org.</b></div><div class=\"sk-container\" hidden><div class=\"sk-item\"><div class=\"sk-estimator fitted sk-toggleable\"><input class=\"sk-toggleable__control sk-hidden--visually\" id=\"sk-estimator-id-2\" type=\"checkbox\" checked><label for=\"sk-estimator-id-2\" class=\"sk-toggleable__label fitted sk-toggleable__label-arrow\"><div><div>KNeighborsClassifier</div></div><div><a class=\"sk-estimator-doc-link fitted\" rel=\"noreferrer\" target=\"_blank\" href=\"https://scikit-learn.org/1.6/modules/generated/sklearn.neighbors.KNeighborsClassifier.html\">?<span>Documentation for KNeighborsClassifier</span></a><span class=\"sk-estimator-doc-link fitted\">i<span>Fitted</span></span></div></label><div class=\"sk-toggleable__content fitted\"><pre>KNeighborsClassifier(n_neighbors=1)</pre></div> </div></div></div></div>"
      ],
      "text/plain": [
       "KNeighborsClassifier(n_neighbors=1)"
      ]
     },
     "execution_count": 12,
     "metadata": {},
     "output_type": "execute_result"
    }
   ],
   "source": [
    "knn = KNeighborsClassifier(n_neighbors=1)\n",
    "knn.fit(X,y)"
   ]
  },
  {
   "cell_type": "markdown",
   "id": "ed94b6cf",
   "metadata": {},
   "source": [
    "...and this command provides a prediction for an input of  $(-2,3)$ input. "
   ]
  },
  {
   "cell_type": "code",
   "execution_count": 13,
   "id": "544ff516",
   "metadata": {},
   "outputs": [
    {
     "name": "stderr",
     "output_type": "stream",
     "text": [
      "/opt/miniconda3/lib/python3.11/site-packages/sklearn/utils/validation.py:2739: UserWarning: X does not have valid feature names, but KNeighborsClassifier was fitted with feature names\n",
      "  warnings.warn(\n"
     ]
    },
    {
     "data": {
      "text/plain": [
       "array(['chicken'], dtype=object)"
      ]
     },
     "execution_count": 13,
     "metadata": {},
     "output_type": "execute_result"
    }
   ],
   "source": [
    "knn.predict([[-2,3]])"
   ]
  },
  {
   "cell_type": "markdown",
   "id": "ae744f8e",
   "metadata": {},
   "source": [
    "&#9989; **<font color=red>Do this:</font>** What does your classifier predict for $(-4,4)$? What about at $(6,0)$? Are these the same that you guessed above? "
   ]
  },
  {
   "cell_type": "code",
   "execution_count": 16,
   "id": "2bc2d5f3",
   "metadata": {},
   "outputs": [
    {
     "name": "stdout",
     "output_type": "stream",
     "text": [
      "['chicken']\n",
      "['egg']\n"
     ]
    },
    {
     "name": "stderr",
     "output_type": "stream",
     "text": [
      "/opt/miniconda3/lib/python3.11/site-packages/sklearn/utils/validation.py:2739: UserWarning: X does not have valid feature names, but KNeighborsClassifier was fitted with feature names\n",
      "  warnings.warn(\n",
      "/opt/miniconda3/lib/python3.11/site-packages/sklearn/utils/validation.py:2739: UserWarning: X does not have valid feature names, but KNeighborsClassifier was fitted with feature names\n",
      "  warnings.warn(\n"
     ]
    }
   ],
   "source": [
    "print(knn.predict([[-4,4]]))\n",
    "print(knn.predict([[6,0]]))"
   ]
  },
  {
   "cell_type": "markdown",
   "id": "d28e9faa-f4f0-4b78-b9a6-b96f3973791f",
   "metadata": {},
   "source": [
    "These match exactly with what we guessed earlier based on the scatter plot"
   ]
  },
  {
   "cell_type": "markdown",
   "id": "9ac89745",
   "metadata": {},
   "source": [
    "This predict function is pretty powerful. If I want to get all predictions for all of my inputs, I can just pass my $X$ dataframe."
   ]
  },
  {
   "cell_type": "code",
   "execution_count": 17,
   "id": "b0dd6c2b",
   "metadata": {},
   "outputs": [
    {
     "data": {
      "text/plain": [
       "array(['chicken', 'chicken', 'chicken', 'chicken', 'chicken', 'chicken',\n",
       "       'egg', 'chicken', 'egg', 'chicken', 'egg', 'egg', 'chicken', 'egg',\n",
       "       'egg', 'chicken', 'chicken', 'chicken', 'egg', 'egg', 'egg',\n",
       "       'chicken', 'chicken', 'egg', 'egg', 'chicken', 'egg', 'chicken',\n",
       "       'chicken', 'chicken', 'chicken', 'chicken', 'egg', 'chicken',\n",
       "       'chicken', 'egg', 'chicken', 'chicken', 'egg', 'chicken', 'egg',\n",
       "       'chicken', 'chicken', 'chicken', 'egg', 'egg', 'egg', 'egg',\n",
       "       'chicken', 'chicken', 'egg', 'chicken', 'chicken', 'egg',\n",
       "       'chicken', 'egg', 'egg', 'egg', 'chicken', 'chicken', 'chicken',\n",
       "       'chicken', 'egg', 'chicken', 'egg', 'chicken', 'chicken',\n",
       "       'chicken', 'egg', 'chicken', 'egg', 'chicken', 'egg', 'chicken',\n",
       "       'egg', 'egg', 'chicken', 'egg', 'chicken', 'chicken', 'egg',\n",
       "       'chicken', 'egg', 'egg', 'egg', 'chicken', 'chicken', 'egg', 'egg',\n",
       "       'chicken'], dtype=object)"
      ]
     },
     "execution_count": 17,
     "metadata": {},
     "output_type": "execute_result"
    }
   ],
   "source": [
    "knn.predict(X)"
   ]
  },
  {
   "cell_type": "markdown",
   "id": "37e61c3e",
   "metadata": {},
   "source": [
    "Remember what all the actual labels were? "
   ]
  },
  {
   "cell_type": "code",
   "execution_count": 18,
   "id": "87c6ecb9",
   "metadata": {},
   "outputs": [
    {
     "data": {
      "text/plain": [
       "array(['chicken', 'chicken', 'chicken', 'chicken', 'chicken', 'chicken',\n",
       "       'egg', 'chicken', 'egg', 'chicken', 'egg', 'egg', 'chicken', 'egg',\n",
       "       'egg', 'chicken', 'chicken', 'chicken', 'egg', 'egg', 'egg',\n",
       "       'chicken', 'chicken', 'egg', 'egg', 'chicken', 'egg', 'chicken',\n",
       "       'chicken', 'chicken', 'chicken', 'chicken', 'egg', 'chicken',\n",
       "       'chicken', 'egg', 'chicken', 'chicken', 'egg', 'chicken', 'egg',\n",
       "       'chicken', 'chicken', 'chicken', 'egg', 'egg', 'egg', 'egg',\n",
       "       'chicken', 'chicken', 'egg', 'chicken', 'chicken', 'egg',\n",
       "       'chicken', 'egg', 'egg', 'egg', 'chicken', 'chicken', 'chicken',\n",
       "       'chicken', 'egg', 'chicken', 'egg', 'chicken', 'chicken',\n",
       "       'chicken', 'egg', 'chicken', 'egg', 'chicken', 'egg', 'chicken',\n",
       "       'egg', 'egg', 'chicken', 'egg', 'chicken', 'chicken', 'egg',\n",
       "       'chicken', 'egg', 'egg', 'egg', 'chicken', 'chicken', 'egg', 'egg',\n",
       "       'chicken'], dtype=object)"
      ]
     },
     "execution_count": 18,
     "metadata": {},
     "output_type": "execute_result"
    }
   ],
   "source": [
    "np.array(y)"
   ]
  },
  {
   "cell_type": "markdown",
   "id": "7c338d99",
   "metadata": {},
   "source": [
    "Now, I could sit here and go through one by one to see if they have the same predicted value as the label to decide on my accuracy. But, as usual, `sklearn` comes to the rescue. "
   ]
  },
  {
   "cell_type": "code",
   "execution_count": 19,
   "id": "831dea15",
   "metadata": {},
   "outputs": [
    {
     "data": {
      "text/plain": [
       "1.0"
      ]
     },
     "execution_count": 19,
     "metadata": {},
     "output_type": "execute_result"
    }
   ],
   "source": [
    "from sklearn.metrics import accuracy_score\n",
    "\n",
    "accuracy_score(knn.predict(X),y)"
   ]
  },
  {
   "cell_type": "markdown",
   "id": "10517295",
   "metadata": {},
   "source": [
    "## Train test splits \n",
    "\n",
    "Ok, so you got 100% accuracy! You're done, right???? \n",
    "\n",
    "**<font color=red>Wrong!</font>**\n",
    "\n",
    "We know better than to report our training accuracy as our actual accuracy! So, let's set up some basic train/test splits!"
   ]
  },
  {
   "cell_type": "code",
   "execution_count": 20,
   "id": "89fc5ccd",
   "metadata": {},
   "outputs": [],
   "source": [
    "from sklearn.model_selection import train_test_split\n",
    "X_train, X_test, y_train, y_test = train_test_split(X, y, test_size=0.1)"
   ]
  },
  {
   "cell_type": "markdown",
   "id": "cca9c3be",
   "metadata": {},
   "source": [
    "In this case, the `X_train` data frame has the inputs we'll use for training, and the `y_train` has the outputs for those same data points. "
   ]
  },
  {
   "cell_type": "code",
   "execution_count": 21,
   "id": "00a723c2",
   "metadata": {},
   "outputs": [
    {
     "name": "stdout",
     "output_type": "stream",
     "text": [
      "(81, 2)\n"
     ]
    },
    {
     "data": {
      "text/html": [
       "<div>\n",
       "<style scoped>\n",
       "    .dataframe tbody tr th:only-of-type {\n",
       "        vertical-align: middle;\n",
       "    }\n",
       "\n",
       "    .dataframe tbody tr th {\n",
       "        vertical-align: top;\n",
       "    }\n",
       "\n",
       "    .dataframe thead th {\n",
       "        text-align: right;\n",
       "    }\n",
       "</style>\n",
       "<table border=\"1\" class=\"dataframe\">\n",
       "  <thead>\n",
       "    <tr style=\"text-align: right;\">\n",
       "      <th></th>\n",
       "      <th>x1</th>\n",
       "      <th>x2</th>\n",
       "    </tr>\n",
       "  </thead>\n",
       "  <tbody>\n",
       "    <tr>\n",
       "      <th>30</th>\n",
       "      <td>-1.463331</td>\n",
       "      <td>6.017793</td>\n",
       "    </tr>\n",
       "    <tr>\n",
       "      <th>39</th>\n",
       "      <td>0.990345</td>\n",
       "      <td>5.875922</td>\n",
       "    </tr>\n",
       "    <tr>\n",
       "      <th>51</th>\n",
       "      <td>0.151500</td>\n",
       "      <td>6.891839</td>\n",
       "    </tr>\n",
       "    <tr>\n",
       "      <th>11</th>\n",
       "      <td>-4.060308</td>\n",
       "      <td>-4.373967</td>\n",
       "    </tr>\n",
       "    <tr>\n",
       "      <th>47</th>\n",
       "      <td>-0.018457</td>\n",
       "      <td>2.045825</td>\n",
       "    </tr>\n",
       "  </tbody>\n",
       "</table>\n",
       "</div>"
      ],
      "text/plain": [
       "          x1        x2\n",
       "30 -1.463331  6.017793\n",
       "39  0.990345  5.875922\n",
       "51  0.151500  6.891839\n",
       "11 -4.060308 -4.373967\n",
       "47 -0.018457  2.045825"
      ]
     },
     "execution_count": 21,
     "metadata": {},
     "output_type": "execute_result"
    }
   ],
   "source": [
    "print(X_train.shape)\n",
    "X_train.head()"
   ]
  },
  {
   "cell_type": "code",
   "execution_count": 22,
   "id": "ff5fb4ed",
   "metadata": {},
   "outputs": [
    {
     "name": "stdout",
     "output_type": "stream",
     "text": [
      "(81,)\n"
     ]
    },
    {
     "data": {
      "text/plain": [
       "30    chicken\n",
       "39    chicken\n",
       "51    chicken\n",
       "11        egg\n",
       "47        egg\n",
       "Name: Label, dtype: object"
      ]
     },
     "execution_count": 22,
     "metadata": {},
     "output_type": "execute_result"
    }
   ],
   "source": [
    "print(y_train.shape)\n",
    "y_train.head()"
   ]
  },
  {
   "cell_type": "markdown",
   "id": "d3bda846",
   "metadata": {},
   "source": [
    "The `X_test` data frame has the inputs we'll use for test, and the `y_test` has the outputs for those same data points. We don't get to touch these until after the training is all done! Otherwise we are data-snooping!"
   ]
  },
  {
   "cell_type": "code",
   "execution_count": 23,
   "id": "bded2968",
   "metadata": {},
   "outputs": [
    {
     "name": "stdout",
     "output_type": "stream",
     "text": [
      "(9, 2)\n"
     ]
    },
    {
     "data": {
      "text/html": [
       "<div>\n",
       "<style scoped>\n",
       "    .dataframe tbody tr th:only-of-type {\n",
       "        vertical-align: middle;\n",
       "    }\n",
       "\n",
       "    .dataframe tbody tr th {\n",
       "        vertical-align: top;\n",
       "    }\n",
       "\n",
       "    .dataframe thead th {\n",
       "        text-align: right;\n",
       "    }\n",
       "</style>\n",
       "<table border=\"1\" class=\"dataframe\">\n",
       "  <thead>\n",
       "    <tr style=\"text-align: right;\">\n",
       "      <th></th>\n",
       "      <th>x1</th>\n",
       "      <th>x2</th>\n",
       "    </tr>\n",
       "  </thead>\n",
       "  <tbody>\n",
       "    <tr>\n",
       "      <th>78</th>\n",
       "      <td>-1.898098</td>\n",
       "      <td>0.124103</td>\n",
       "    </tr>\n",
       "    <tr>\n",
       "      <th>86</th>\n",
       "      <td>5.221838</td>\n",
       "      <td>3.405265</td>\n",
       "    </tr>\n",
       "    <tr>\n",
       "      <th>36</th>\n",
       "      <td>0.797240</td>\n",
       "      <td>6.383464</td>\n",
       "    </tr>\n",
       "    <tr>\n",
       "      <th>84</th>\n",
       "      <td>1.334320</td>\n",
       "      <td>1.825230</td>\n",
       "    </tr>\n",
       "    <tr>\n",
       "      <th>19</th>\n",
       "      <td>2.976747</td>\n",
       "      <td>-4.029486</td>\n",
       "    </tr>\n",
       "    <tr>\n",
       "      <th>83</th>\n",
       "      <td>-5.373723</td>\n",
       "      <td>-4.728891</td>\n",
       "    </tr>\n",
       "    <tr>\n",
       "      <th>1</th>\n",
       "      <td>-3.547711</td>\n",
       "      <td>0.438432</td>\n",
       "    </tr>\n",
       "    <tr>\n",
       "      <th>42</th>\n",
       "      <td>3.985560</td>\n",
       "      <td>3.015132</td>\n",
       "    </tr>\n",
       "    <tr>\n",
       "      <th>57</th>\n",
       "      <td>1.404466</td>\n",
       "      <td>1.297167</td>\n",
       "    </tr>\n",
       "  </tbody>\n",
       "</table>\n",
       "</div>"
      ],
      "text/plain": [
       "          x1        x2\n",
       "78 -1.898098  0.124103\n",
       "86  5.221838  3.405265\n",
       "36  0.797240  6.383464\n",
       "84  1.334320  1.825230\n",
       "19  2.976747 -4.029486\n",
       "83 -5.373723 -4.728891\n",
       "1  -3.547711  0.438432\n",
       "42  3.985560  3.015132\n",
       "57  1.404466  1.297167"
      ]
     },
     "execution_count": 23,
     "metadata": {},
     "output_type": "execute_result"
    }
   ],
   "source": [
    "print(X_test.shape)\n",
    "X_test.head(10)"
   ]
  },
  {
   "cell_type": "code",
   "execution_count": 24,
   "id": "ec4097eb",
   "metadata": {},
   "outputs": [
    {
     "name": "stdout",
     "output_type": "stream",
     "text": [
      "(9,)\n"
     ]
    },
    {
     "data": {
      "text/plain": [
       "78    chicken\n",
       "86    chicken\n",
       "36    chicken\n",
       "84        egg\n",
       "19        egg\n",
       "83        egg\n",
       "1     chicken\n",
       "42    chicken\n",
       "57        egg\n",
       "Name: Label, dtype: object"
      ]
     },
     "execution_count": 24,
     "metadata": {},
     "output_type": "execute_result"
    }
   ],
   "source": [
    "print(y_test.shape)\n",
    "y_test.head(10)"
   ]
  },
  {
   "cell_type": "markdown",
   "id": "9a170d0a",
   "metadata": {},
   "source": [
    "&#9989; **<font color=red>Do this:</font>** Build a KNN classifier using $k=3$ neighbors, and train it on your `X_train` and `y_train` data. Call it `knn` like before. \n",
    "\n",
    "- What is your training accuracy? \n",
    "- What is your testing accuracy? "
   ]
  },
  {
   "cell_type": "code",
   "execution_count": 25,
   "id": "1c0010be",
   "metadata": {},
   "outputs": [
    {
     "name": "stdout",
     "output_type": "stream",
     "text": [
      "Training Accuracy: 0.9629629629629629\n",
      "Testing Accuracy: 1.0\n"
     ]
    }
   ],
   "source": [
    "knn = KNeighborsClassifier(n_neighbors=3)\n",
    "knn.fit(X_train, y_train)\n",
    "\n",
    "# Training accuracy\n",
    "train_preds = knn.predict(X_train)\n",
    "train_acc = accuracy_score(y_train, train_preds)\n",
    "print(\"Training Accuracy:\", train_acc)\n",
    "\n",
    "# Testing accuracy\n",
    "test_preds = knn.predict(X_test)\n",
    "test_acc = accuracy_score(y_test, test_preds)\n",
    "print(\"Testing Accuracy:\", test_acc)"
   ]
  },
  {
   "cell_type": "markdown",
   "id": "7ab10a3d",
   "metadata": {},
   "source": [
    "I want to show you one more nice command in here. Remember that KNNs work by returning the label of the most frequently seen label among the $k$ numbers, but that doesn't mean every neighbor had that label. \n",
    "\n",
    "The `predict_proba` function will tell you the percentage of each that was seen. "
   ]
  },
  {
   "cell_type": "code",
   "execution_count": 26,
   "id": "1127ddbf",
   "metadata": {},
   "outputs": [
    {
     "data": {
      "text/plain": [
       "array([[1.        , 0.        ],\n",
       "       [0.66666667, 0.33333333],\n",
       "       [1.        , 0.        ],\n",
       "       [0.        , 1.        ],\n",
       "       [0.        , 1.        ],\n",
       "       [0.        , 1.        ],\n",
       "       [0.66666667, 0.33333333],\n",
       "       [1.        , 0.        ],\n",
       "       [0.        , 1.        ]])"
      ]
     },
     "execution_count": 26,
     "metadata": {},
     "output_type": "execute_result"
    }
   ],
   "source": [
    "knn.predict_proba(X_test)"
   ]
  },
  {
   "cell_type": "markdown",
   "id": "903eff51",
   "metadata": {},
   "source": [
    "## Bayes classifier \n",
    "\n",
    "Now, because I generated our data, we can take a look at how our results match up with the Bayes classifier. \n"
   ]
  },
  {
   "cell_type": "code",
   "execution_count": 27,
   "id": "955a0a44",
   "metadata": {},
   "outputs": [],
   "source": [
    "# Run this cell, we just need to generate some inputs \n",
    "# to be able to draw figures in a moment. \n",
    "t = np.linspace(-7,7,28)\n",
    "X_mesh,Y_mesh = np.meshgrid(t,t)\n",
    "X_mesh_flat = X_mesh.flatten()\n",
    "Y_mesh_flat = Y_mesh.flatten()\n",
    "test_all_df = pd.DataFrame({'x1':X_mesh_flat,'x2':Y_mesh_flat})\n"
   ]
  },
  {
   "cell_type": "markdown",
   "id": "7cf1fd25",
   "metadata": {},
   "source": [
    "First, I am going to set up some code that will figure out what your model, named `knn` above hopfully, will predict for a grid of numbers covering our $[-7,7] \\times [-7,7]$ box. "
   ]
  },
  {
   "cell_type": "code",
   "execution_count": 28,
   "id": "088dc7a3",
   "metadata": {},
   "outputs": [],
   "source": [
    "pred_all = knn.predict(test_all_df)\n",
    "def to_int(chickegg):\n",
    "    if chickegg == 'egg':\n",
    "        return -1\n",
    "    else:\n",
    "        return 1\n",
    "    \n",
    "pred_all = np.array([to_int(x) for x in pred_all])\n",
    "pred_all.shape\n",
    "pred_all = pred_all.reshape([28,28])"
   ]
  },
  {
   "cell_type": "markdown",
   "id": "bbf9096b",
   "metadata": {},
   "source": [
    "Then this will plot these predictions on our 2D plane. "
   ]
  },
  {
   "cell_type": "code",
   "execution_count": 29,
   "id": "38863195",
   "metadata": {},
   "outputs": [
    {
     "data": {
      "text/plain": [
       "[Text(1, -1, 'egg'), Text(1, 1, 'chicken')]"
      ]
     },
     "execution_count": 29,
     "metadata": {},
     "output_type": "execute_result"
    },
    {
     "data": {
      "image/png": "[encoded data removed]",
      "text/plain": [
       "<Figure size 640x480 with 2 Axes>"
      ]
     },
     "metadata": {},
     "output_type": "display_data"
    }
   ],
   "source": [
    "plt.pcolor(X_mesh,Y_mesh,pred_all)\n",
    "\n",
    "cbar = plt.colorbar(ticks=[-1, 1])\n",
    "cbar.ax.set_yticklabels(['egg','chicken'])"
   ]
  },
  {
   "cell_type": "markdown",
   "id": "9422cb5b",
   "metadata": {},
   "source": [
    "&#9989; **<font color=red>Q:</font>** Using this plot, what is your model going to predict for a data point at $(-4,6)$? "
   ]
  },
  {
   "cell_type": "markdown",
   "id": "757bfc21",
   "metadata": {},
   "source": [
    "The model will predict chicken for the point (-4,6)"
   ]
  },
  {
   "cell_type": "markdown",
   "id": "13bc00b0",
   "metadata": {},
   "source": [
    "Note that since I generated this data, I know where the line was between the two regions used to generate it. In my case, I happened to use the function \n",
    "$$\n",
    "f(x_1,x_2) = (x_2)^3 - x_2 -x_1\n",
    "$$\n",
    "and labeled a new data point based on whether $f(x_1,x_2) + \\varepsilon$ was positive or negative. \n",
    "\n",
    "Below, you can see $f(x_1,x_2)$ (in this case, the Bayes classifier) drawn on top of your model's predictions. How similar did you get? \n",
    "\n",
    "&#9989; **<font color=red>Q:</font>** Where are the regions that your model predicts something different than the Bayes classifier? "
   ]
  },
  {
   "cell_type": "code",
   "execution_count": 30,
   "id": "c0aa1e10",
   "metadata": {},
   "outputs": [
    {
     "data": {
      "text/plain": [
       "[<matplotlib.lines.Line2D at 0x7b42bf182fd0>]"
      ]
     },
     "execution_count": 30,
     "metadata": {},
     "output_type": "execute_result"
    },
    {
     "data": {
      "image/png": "[encoded data removed]",
      "text/plain": [
       "<Figure size 640x480 with 2 Axes>"
      ]
     },
     "metadata": {},
     "output_type": "display_data"
    }
   ],
   "source": [
    "# This command tries to draw a line between the two regions \n",
    "plt.pcolor(X_mesh,Y_mesh,pred_all)\n",
    "\n",
    "cbar = plt.colorbar(ticks=[-1, 1])\n",
    "cbar.ax.set_yticklabels(['egg','chicken'])\n",
    "\n",
    "# This draws the line I used to generate the data \n",
    "ty = np.linspace(-2.1,2.1,100)\n",
    "tx = ty**3 - ty\n",
    "plt.plot(tx,ty, color = 'grey')\n"
   ]
  },
  {
   "cell_type": "markdown",
   "id": "860aee34",
   "metadata": {},
   "source": [
    "## Messing with $k$\n",
    "\n",
    "Finally, we're going to generate plots like Fig 2.17 in the book, where we look at the training and testing errors vs the flexibility (in this case, $1/k$) of the model used. "
   ]
  },
  {
   "cell_type": "code",
   "execution_count": 31,
   "id": "147f2c8a",
   "metadata": {},
   "outputs": [
    {
     "name": "stdout",
     "output_type": "stream",
     "text": [
      "[25 20  5  2  1]\n"
     ]
    },
    {
     "data": {
      "text/plain": [
       "<matplotlib.legend.Legend at 0x7b42bf096910>"
      ]
     },
     "execution_count": 31,
     "metadata": {},
     "output_type": "execute_result"
    },
    {
     "data": {
      "image/png": "[encoded data removed]",
      "text/plain": [
       "<Figure size 640x480 with 1 Axes>"
      ]
     },
     "metadata": {},
     "output_type": "display_data"
    }
   ],
   "source": [
    "# Our choices of $K$\n",
    "# Note that the graph will use $1/k$ for flexibility\n",
    "Kinv = np.array([0.04, 0.05,0.2,0.5,1])\n",
    "Ks = 1/Kinv\n",
    "Ks = Ks.astype(int)\n",
    "print(Ks)\n",
    "\n",
    "Accuracies = []\n",
    "TrainAccuracies = []\n",
    "\n",
    "\n",
    "# I'm going to run this model for all my choices of k\n",
    "for k in Ks:\n",
    "    thisruntest = []\n",
    "    thisruntrain = []\n",
    "    \n",
    "    # For each choice of k, i'll do this 10 times and average\n",
    "    for runNum in range(10):\n",
    "        X_train, X_test, y_train, y_test = train_test_split(X, y, test_size=0.3)\n",
    "        knn = KNeighborsClassifier(n_neighbors=k)\n",
    "        knn.fit(X_train,y_train)\n",
    "        \n",
    "        # Figure out my training error rate \n",
    "        acctrain = accuracy_score(knn.predict(X_train),y_train)\n",
    "        thisruntrain.append(1-acctrain)\n",
    "        \n",
    "        # Figure out my testing error rate\n",
    "        acctest = accuracy_score(knn.predict(X_test),y_test)\n",
    "        thisruntest.append(1-acctest)\n",
    "    \n",
    "    # Keep the average over the 10 runs\n",
    "    TrainAccuracies.append(np.average(thisruntrain))\n",
    "    Accuracies.append(np.average(thisruntest))\n",
    "\n",
    "    \n",
    "# Plot train and test with x-axis on a log scale\n",
    "plt.semilogx(1/Ks,TrainAccuracies, label = 'Train')\n",
    "plt.semilogx(1/Ks,Accuracies, label = 'Test')\n",
    "plt.xlabel('1/k')\n",
    "plt.ylabel('Error rate')\n",
    "plt.legend()"
   ]
  },
  {
   "cell_type": "markdown",
   "id": "472ed8c2",
   "metadata": {},
   "source": [
    "&#9989; **<font color=red>Q:</font>** Based on your graph above\n",
    "- What do you notice about the shape of the train and test error plots? \n",
    "- What would you choose for $k$ based on this data? "
   ]
  },
  {
   "cell_type": "markdown",
   "id": "fad2c943-381c-4bbc-b669-093e863da6c5",
   "metadata": {},
   "source": [
    "Train error decreases as k gets smaller (more flexible), while test error drops then slightly rises—showing a U-shape for test error. Around k=5 (i.e., 1/k=0.2) seems best since test error is lowest there."
   ]
  },
  {
   "cell_type": "markdown",
   "id": "66f79113",
   "metadata": {},
   "source": [
    "\n",
    "\n",
    "-----\n",
    "### Congratulations, we're done!\n",
    "Written by Dr. Liz Munch, Michigan State University\n",
    "\n",
    "<a rel=\"license\" href=\"http://creativecommons.org/licenses/by-nc/4.0/\"><img alt=\"Creative Commons License\" style=\"border-width:0\" src=\"https://i.creativecommons.org/l/by-nc/4.0/88x31.png\" /></a><br />This work is licensed under a <a rel=\"license\" href=\"http://creativecommons.org/licenses/by-nc/4.0/\">Creative Commons Attribution-NonCommercial 4.0 International License</a>."
   ]
  }
 ],
 "metadata": {
  "kernelspec": {
   "display_name": "Python 3.11 (default)",
   "language": "python",
   "name": "python3"
  },
  "language_info": {
   "codemirror_mode": {
    "name": "ipython",
    "version": 3
   },
   "file_extension": ".py",
   "mimetype": "text/x-python",
   "name": "python",
   "nbconvert_exporter": "python",
   "pygments_lexer": "ipython3",
   "version": "3.11.12"
  }
 },
 "nbformat": 4,
 "nbformat_minor": 5
}
